{
 "cells": [
  {
   "cell_type": "code",
   "execution_count": 5,
   "id": "4f514de0",
   "metadata": {},
   "outputs": [
    {
     "name": "stdout",
     "output_type": "stream",
     "text": [
      "[0, 1, 4, 9, 16, 25, 36, 49, 64, 81, 100, 121, 144, 169, 196]\n"
     ]
    }
   ],
   "source": [
    "# list comprehension\n",
    "\n",
    "y = 15\n",
    "\n",
    "numbers = [x**2 for x in range(y)]\n",
    "\n",
    "#numbers = []\n",
    "\n",
    "#for x in range(10):\n",
    "#    #print(x)\n",
    "#    numbers.append(x)\n",
    "    \n",
    "print(numbers)"
   ]
  },
  {
   "cell_type": "code",
   "execution_count": 6,
   "id": "193a295e",
   "metadata": {},
   "outputs": [
    {
     "name": "stdout",
     "output_type": "stream",
     "text": [
      "1\n",
      "2\n",
      "3\n",
      "4\n",
      "6\n",
      "7\n",
      "8\n",
      "9\n",
      "10\n"
     ]
    }
   ],
   "source": [
    "# use of continue - to skip a loop\n",
    "count = 0\n",
    "\n",
    "while count < 10:\n",
    "    count += 1 \n",
    "    if count == 5:\n",
    "        continue\n",
    "    print(count) # to skip executing this statement on specific condition\n"
   ]
  },
  {
   "cell_type": "code",
   "execution_count": 7,
   "id": "fa913c08",
   "metadata": {},
   "outputs": [
    {
     "name": "stdout",
     "output_type": "stream",
     "text": [
      "a is ten\n"
     ]
    }
   ],
   "source": [
    "# pass\n",
    "\n",
    "a = 10\n",
    "\n",
    "if a != 10:\n",
    "    pass\n",
    "else:\n",
    "    print(\"a is ten\")"
   ]
  },
  {
   "cell_type": "code",
   "execution_count": 8,
   "id": "b3c459b9",
   "metadata": {},
   "outputs": [],
   "source": [
    "def f1():\n",
    "    pass"
   ]
  },
  {
   "cell_type": "code",
   "execution_count": 11,
   "id": "647a1bb7",
   "metadata": {},
   "outputs": [
    {
     "name": "stdout",
     "output_type": "stream",
     "text": [
      "Enter a numberhello\n",
      "script continues here ...\n"
     ]
    }
   ],
   "source": [
    "try:\n",
    "    num = int(input(\"Enter a number\"))\n",
    "    print(num)\n",
    "except:\n",
    "    pass\n",
    "    #print(\"error in integer conversion\")\n",
    "\n",
    "print(\"script continues here ...\")"
   ]
  },
  {
   "cell_type": "code",
   "execution_count": null,
   "id": "b602e55e",
   "metadata": {},
   "outputs": [],
   "source": []
  }
 ],
 "metadata": {
  "kernelspec": {
   "display_name": "Python 3 (ipykernel)",
   "language": "python",
   "name": "python3"
  },
  "language_info": {
   "codemirror_mode": {
    "name": "ipython",
    "version": 3
   },
   "file_extension": ".py",
   "mimetype": "text/x-python",
   "name": "python",
   "nbconvert_exporter": "python",
   "pygments_lexer": "ipython3",
   "version": "3.7.3"
  }
 },
 "nbformat": 4,
 "nbformat_minor": 5
}
