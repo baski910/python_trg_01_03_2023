{
 "cells": [
  {
   "cell_type": "code",
   "execution_count": 1,
   "id": "3f714969",
   "metadata": {},
   "outputs": [
    {
     "name": "stdout",
     "output_type": "stream",
     "text": [
      "64\n",
      "<function square at 0x7f970805c7b8>\n"
     ]
    }
   ],
   "source": [
    "\"\"\"Example for first class function\"\"\"\n",
    "\n",
    "def square(x):\n",
    "    return x*x\n",
    "\n",
    "print(square(8)) # output will be 64\n",
    "\n",
    "print(square)"
   ]
  },
  {
   "cell_type": "code",
   "execution_count": 2,
   "id": "7a6dff6f",
   "metadata": {},
   "outputs": [],
   "source": [
    "ref1 = square"
   ]
  },
  {
   "cell_type": "code",
   "execution_count": 3,
   "id": "5bf53f33",
   "metadata": {},
   "outputs": [
    {
     "name": "stdout",
     "output_type": "stream",
     "text": [
      "<function square at 0x7f970805c7b8>\n"
     ]
    }
   ],
   "source": [
    "print(ref1)"
   ]
  },
  {
   "cell_type": "code",
   "execution_count": 4,
   "id": "843e903c",
   "metadata": {},
   "outputs": [
    {
     "name": "stdout",
     "output_type": "stream",
     "text": [
      "169\n"
     ]
    }
   ],
   "source": [
    "print(ref1(13))"
   ]
  },
  {
   "cell_type": "code",
   "execution_count": 9,
   "id": "1504b7ad",
   "metadata": {},
   "outputs": [
    {
     "name": "stdout",
     "output_type": "stream",
     "text": [
      "<function <lambda> at 0x7f96f279d9d8>\n",
      "64\n"
     ]
    }
   ],
   "source": [
    "\"\"\"Examples for lambda function\"\"\"\n",
    "\n",
    "# defining a lambda function\n",
    "ref2 = lambda x: x*x\n",
    "\n",
    "# now ref2 has the reference of lambda\n",
    "print(ref2) # lambda function reference in hexadecimal form\n",
    "\n",
    "# calling the lambda function\n",
    "print(ref2(8)) # output will be 64"
   ]
  },
  {
   "cell_type": "code",
   "execution_count": 10,
   "id": "f61531d1",
   "metadata": {},
   "outputs": [
    {
     "name": "stdout",
     "output_type": "stream",
     "text": [
      "<function <lambda> at 0x7f96f279d8c8>\n",
      "120\n"
     ]
    }
   ],
   "source": [
    "ref2 = lambda x,y: x*y\n",
    "\n",
    "# now ref2 has the reference of lambda\n",
    "print(ref2) # lambda function reference in hexadecimal form\n",
    "\n",
    "# calling the lambda function\n",
    "print(ref2(10,12)) # output will be 120"
   ]
  },
  {
   "cell_type": "code",
   "execution_count": null,
   "id": "0196b9fb",
   "metadata": {},
   "outputs": [],
   "source": []
  }
 ],
 "metadata": {
  "kernelspec": {
   "display_name": "Python 3 (ipykernel)",
   "language": "python",
   "name": "python3"
  },
  "language_info": {
   "codemirror_mode": {
    "name": "ipython",
    "version": 3
   },
   "file_extension": ".py",
   "mimetype": "text/x-python",
   "name": "python",
   "nbconvert_exporter": "python",
   "pygments_lexer": "ipython3",
   "version": "3.7.3"
  }
 },
 "nbformat": 4,
 "nbformat_minor": 5
}
