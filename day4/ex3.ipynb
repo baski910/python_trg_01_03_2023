{
 "cells": [
  {
   "cell_type": "code",
   "execution_count": 3,
   "id": "2a314f5e",
   "metadata": {},
   "outputs": [
    {
     "name": "stdout",
     "output_type": "stream",
     "text": [
      "12345:bob\n",
      "56723:tom\n"
     ]
    }
   ],
   "source": [
    "# __repr__ - returns a string when the object is printed\n",
    "# destructor\n",
    "class BankAccount:\n",
    "    \"\"\"this is an example class\"\"\" # docstring\n",
    "    #account_number = 0\n",
    "    num_of_accounts = 0 # class attribute\n",
    "    def __init__(self,number,name,date_of_opening,balance): # constructor\n",
    "        self.account_number = number # instance attributes\n",
    "        self.account_name = name\n",
    "        self.date_of_opening = date_of_opening\n",
    "        self.curbalance = balance\n",
    "        BankAccount.num_of_accounts += 1\n",
    "    \n",
    "    def deposit_withdraw(self,amount,transtype): # instance methods\n",
    "        if transtype==\"deposit\":\n",
    "            self.curbalance += amount\n",
    "        elif transtype==\"withdraw\":\n",
    "            self.curbalance -= amount\n",
    "        print(\"current balance of {} is {}\".format(self.account_number,self.curbalance))\n",
    "    \n",
    "    def __repr__(self): # invoked when object is printed\n",
    "        return \"{}:{}\".format(self.account_number,self.account_name)\n",
    "    \n",
    "    def totalAccounts(self):\n",
    "        print(\"Total number of accounts:{}\".format(BankAccount.num_of_accounts))\n",
    "    #def withdraw(self,amount):\n",
    "    #    self.curbalance -= amount\n",
    "    \n",
    "    \n",
    "    \n",
    "obj1 = BankAccount(12345,'bob','2023-01-20',1000)\n",
    "print(obj1) # returns a hexadecimal value\n",
    "obj2 = BankAccount(56723,'tom','2023-01-20',1200)\n",
    "print(obj2) # returns a hexadecimal value"
   ]
  },
  {
   "cell_type": "code",
   "execution_count": null,
   "id": "9f2b58a1",
   "metadata": {},
   "outputs": [],
   "source": []
  }
 ],
 "metadata": {
  "kernelspec": {
   "display_name": "Python 3 (ipykernel)",
   "language": "python",
   "name": "python3"
  },
  "language_info": {
   "codemirror_mode": {
    "name": "ipython",
    "version": 3
   },
   "file_extension": ".py",
   "mimetype": "text/x-python",
   "name": "python",
   "nbconvert_exporter": "python",
   "pygments_lexer": "ipython3",
   "version": "3.7.3"
  }
 },
 "nbformat": 4,
 "nbformat_minor": 5
}
