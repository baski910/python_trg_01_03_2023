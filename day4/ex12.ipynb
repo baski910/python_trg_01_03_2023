{
 "cells": [
  {
   "cell_type": "code",
   "execution_count": 1,
   "id": "8cd30187",
   "metadata": {},
   "outputs": [
    {
     "name": "stdout",
     "output_type": "stream",
     "text": [
      "   index            date  duration  item    month   network network_type\n",
      "0      0  15/10/14 06:58    34.429  data  2014-11      data         data\n",
      "1      1  15/10/14 06:58    13.000  call  2014-11  Vodafone       mobile\n",
      "2      2  15/10/14 14:46    23.000  call  2014-11    Meteor       mobile\n",
      "3      3  15/10/14 14:48     4.000  call  2014-11     Tesco       mobile\n",
      "4      4  15/10/14 17:27     4.000  call  2014-11     Tesco       mobile\n"
     ]
    }
   ],
   "source": [
    "import pandas as pd\n",
    "import dateutil as du\n",
    "df=pd.read_csv('phone_data.csv')\n",
    "\n",
    "print(df.head())"
   ]
  },
  {
   "cell_type": "code",
   "execution_count": 5,
   "id": "0ff192bc",
   "metadata": {},
   "outputs": [
    {
     "name": "stdout",
     "output_type": "stream",
     "text": [
      "2014-10-15 06:58:00\n"
     ]
    }
   ],
   "source": [
    "print(du.parser.parse(\"15/10/14 06:58\"))"
   ]
  },
  {
   "cell_type": "code",
   "execution_count": 4,
   "id": "f06dcd36",
   "metadata": {},
   "outputs": [
    {
     "name": "stdout",
     "output_type": "stream",
     "text": [
      "     index                date  duration  item    month   network network_type\n",
      "0        0 2014-10-15 06:58:00    34.429  data  2014-11      data         data\n",
      "1        1 2014-10-15 06:58:00    13.000  call  2014-11  Vodafone       mobile\n",
      "2        2 2014-10-15 14:46:00    23.000  call  2014-11    Meteor       mobile\n",
      "3        3 2014-10-15 14:48:00     4.000  call  2014-11     Tesco       mobile\n",
      "4        4 2014-10-15 17:27:00     4.000  call  2014-11     Tesco       mobile\n",
      "..     ...                 ...       ...   ...      ...       ...          ...\n",
      "825    825 2015-03-13 00:38:00     1.000   sms  2015-03     world        world\n",
      "826    826 2015-03-13 00:39:00     1.000   sms  2015-03  Vodafone       mobile\n",
      "827    827 2015-03-13 06:58:00    34.429  data  2015-03      data         data\n",
      "828    828 2015-03-14 00:13:00     1.000   sms  2015-03     world        world\n",
      "829    829 2015-03-14 00:16:00     1.000   sms  2015-03     world        world\n",
      "\n",
      "[830 rows x 7 columns]\n"
     ]
    }
   ],
   "source": [
    "df['date'] = df['date'].apply(du.parser.parse)\n",
    "\n",
    "print(df)"
   ]
  },
  {
   "cell_type": "code",
   "execution_count": 6,
   "id": "becc1777",
   "metadata": {},
   "outputs": [
    {
     "name": "stdout",
     "output_type": "stream",
     "text": [
      "92321.0\n"
     ]
    }
   ],
   "source": [
    "print(df.loc[df['item']=='call']['duration'].sum())"
   ]
  },
  {
   "cell_type": "code",
   "execution_count": 7,
   "id": "140951c9",
   "metadata": {},
   "outputs": [
    {
     "name": "stdout",
     "output_type": "stream",
     "text": [
      "item\n",
      "call    92321.00\n",
      "data     5164.35\n",
      "sms       292.00\n",
      "Name: duration, dtype: float64\n"
     ]
    }
   ],
   "source": [
    "print(df.groupby(['item'])['duration'].aggregate(sum))"
   ]
  },
  {
   "cell_type": "code",
   "execution_count": 8,
   "id": "9c6f9484",
   "metadata": {},
   "outputs": [
    {
     "name": "stdout",
     "output_type": "stream",
     "text": [
      "          duration            \n",
      "               sum        mean\n",
      "month                         \n",
      "2014-11  26639.441  115.823657\n",
      "2014-12  14641.870   93.260318\n",
      "2015-01  18223.299   88.894141\n",
      "2015-02  15522.299  113.301453\n",
      "2015-03  22750.441  225.251891\n"
     ]
    }
   ],
   "source": [
    "import numpy as np\n",
    "print(df.groupby(['month']).aggregate({'duration':[sum,np.mean]}))"
   ]
  },
  {
   "cell_type": "code",
   "execution_count": null,
   "id": "8978be20",
   "metadata": {},
   "outputs": [],
   "source": []
  }
 ],
 "metadata": {
  "kernelspec": {
   "display_name": "Python 3 (ipykernel)",
   "language": "python",
   "name": "python3"
  },
  "language_info": {
   "codemirror_mode": {
    "name": "ipython",
    "version": 3
   },
   "file_extension": ".py",
   "mimetype": "text/x-python",
   "name": "python",
   "nbconvert_exporter": "python",
   "pygments_lexer": "ipython3",
   "version": "3.7.3"
  }
 },
 "nbformat": 4,
 "nbformat_minor": 5
}
