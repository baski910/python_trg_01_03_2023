{
 "cells": [
  {
   "cell_type": "code",
   "execution_count": 1,
   "id": "63725b83",
   "metadata": {},
   "outputs": [
    {
     "name": "stdout",
     "output_type": "stream",
     "text": [
      "a line outside the function\n",
      "helloworld\n",
      "this line is part of the function\n",
      "helloworld\n",
      "this line is part of the function\n"
     ]
    }
   ],
   "source": [
    "\"\"\"Examples for functions\"\"\"\n",
    "# function definition\n",
    "def sayHello():\n",
    "    \"\"\"this is an example function\"\"\"\n",
    "    print(\"helloworld\")\n",
    "    print(\"this line is part of the function\")\n",
    "print(\"a line outside the function\")\n",
    "\n",
    "sayHello() # function call\n",
    "sayHello()"
   ]
  },
  {
   "cell_type": "code",
   "execution_count": 2,
   "id": "114a711c",
   "metadata": {},
   "outputs": [
    {
     "name": "stdout",
     "output_type": "stream",
     "text": [
      "Enter 2 number and an operator10 8 -\n",
      "2\n"
     ]
    }
   ],
   "source": [
    "\n",
    "def calculate(n1,n2,op):\n",
    "    result = 0\n",
    "    if op=='+':\n",
    "        result = n1+n2\n",
    "    elif op=='-':\n",
    "        result = n1-n2\n",
    "    elif op=='*':\n",
    "        result = n1*n2\n",
    "    elif op=='/':\n",
    "        result = n1/n2\n",
    "    else:\n",
    "        print(\"operator not valid\")\n",
    "    return result\n",
    "    \n",
    "values = input(\"Enter 2 number and an operator\")\n",
    "\n",
    "n1,n2,op = values.split()\n",
    "\n",
    "n1 = int(n1)\n",
    "n2 = int(n2)\n",
    "\n",
    "result = calculate(n1,n2,op)\n",
    "print(result)"
   ]
  },
  {
   "cell_type": "code",
   "execution_count": null,
   "id": "27b0eafc",
   "metadata": {},
   "outputs": [],
   "source": []
  }
 ],
 "metadata": {
  "kernelspec": {
   "display_name": "Python 3 (ipykernel)",
   "language": "python",
   "name": "python3"
  },
  "language_info": {
   "codemirror_mode": {
    "name": "ipython",
    "version": 3
   },
   "file_extension": ".py",
   "mimetype": "text/x-python",
   "name": "python",
   "nbconvert_exporter": "python",
   "pygments_lexer": "ipython3",
   "version": "3.7.3"
  }
 },
 "nbformat": 4,
 "nbformat_minor": 5
}
