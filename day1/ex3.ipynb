{
 "cells": [
  {
   "cell_type": "code",
   "execution_count": 1,
   "id": "b0f62bd6",
   "metadata": {},
   "outputs": [],
   "source": [
    "# immutable object\n",
    "# Python objects, for which the reference changes on modification\n",
    "\n",
    "# Integer,Float,String, tuple fall under immutable objects"
   ]
  },
  {
   "cell_type": "code",
   "execution_count": 2,
   "id": "54c4c8e0",
   "metadata": {},
   "outputs": [
    {
     "name": "stdout",
     "output_type": "stream",
     "text": [
      "value of a: 5\n",
      "reference of a before modification: 9079136\n",
      "value of a: 6\n",
      "reference of a after modification: 9079168\n"
     ]
    }
   ],
   "source": [
    "\"\"\"Examples to explain the above concepts\"\"\"\n",
    "a = 5\n",
    "\n",
    "print(\"value of a:\",a)\n",
    "print(\"reference of a before modification:\",id(a))\n",
    "\n",
    "a += 1\n",
    "\n",
    "print(\"value of a:\",a)\n",
    "print(\"reference of a after modification:\",id(a)) # a gets a new reference. changing the value of a create a new object"
   ]
  },
  {
   "cell_type": "code",
   "execution_count": 3,
   "id": "22802d09",
   "metadata": {},
   "outputs": [
    {
     "name": "stdout",
     "output_type": "stream",
     "text": [
      "5\n",
      "reference of c: 9079136\n"
     ]
    }
   ],
   "source": [
    "c = 5\n",
    "print(c)\n",
    "print(\"reference of c:\",id(c))"
   ]
  },
  {
   "cell_type": "code",
   "execution_count": 4,
   "id": "4cc8cf7a",
   "metadata": {},
   "outputs": [
    {
     "name": "stdout",
     "output_type": "stream",
     "text": [
      "value of list: ['a', 'b', 'c', 'd']\n",
      "reference of list1 before modification: 139916014370120\n",
      "value of list: ['a', 'b', 'c', 'g']\n",
      "reference of list1 after modification: 139916014370120\n"
     ]
    }
   ],
   "source": [
    "\"\"\"observe the changes made to list object\"\"\"\n",
    "list1 = ['a','b','c','d']\n",
    "\n",
    "print(\"value of list:\",list1)\n",
    "print(\"reference of list1 before modification:\",id(list1))\n",
    "\n",
    "list1[3]='g'\n",
    "\n",
    "print(\"value of list:\",list1)\n",
    "print(\"reference of list1 after modification:\",id(list1))"
   ]
  },
  {
   "cell_type": "code",
   "execution_count": null,
   "id": "6c3ff598",
   "metadata": {},
   "outputs": [],
   "source": []
  }
 ],
 "metadata": {
  "kernelspec": {
   "display_name": "Python 3 (ipykernel)",
   "language": "python",
   "name": "python3"
  },
  "language_info": {
   "codemirror_mode": {
    "name": "ipython",
    "version": 3
   },
   "file_extension": ".py",
   "mimetype": "text/x-python",
   "name": "python",
   "nbconvert_exporter": "python",
   "pygments_lexer": "ipython3",
   "version": "3.7.3"
  }
 },
 "nbformat": 4,
 "nbformat_minor": 5
}
