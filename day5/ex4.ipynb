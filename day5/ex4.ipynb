{
 "cells": [
  {
   "cell_type": "code",
   "execution_count": null,
   "id": "46ac4bcf",
   "metadata": {},
   "outputs": [],
   "source": [
    "# SECURITY WARNING: keep the secret key used in production secret!\n",
    "SECRET_KEY = 'django-insecure-=*w95)-s*fpf25(c2hbtys&cal$80envbdc+tdw$y7j)^vy0=%'"
   ]
  }
 ],
 "metadata": {
  "kernelspec": {
   "display_name": "Python 3 (ipykernel)",
   "language": "python",
   "name": "python3"
  },
  "language_info": {
   "codemirror_mode": {
    "name": "ipython",
    "version": 3
   },
   "file_extension": ".py",
   "mimetype": "text/x-python",
   "name": "python",
   "nbconvert_exporter": "python",
   "pygments_lexer": "ipython3",
   "version": "3.7.3"
  }
 },
 "nbformat": 4,
 "nbformat_minor": 5
}
