{
 "cells": [
  {
   "cell_type": "code",
   "execution_count": 3,
   "id": "34d03248",
   "metadata": {},
   "outputs": [
    {
     "ename": "SyntaxError",
     "evalue": "invalid syntax (1185030395.py, line 2)",
     "output_type": "error",
     "traceback": [
      "\u001b[0;36m  File \u001b[0;32m\"/tmp/ipykernel_4288/1185030395.py\"\u001b[0;36m, line \u001b[0;32m2\u001b[0m\n\u001b[0;31m    global x=15\u001b[0m\n\u001b[0m            ^\u001b[0m\n\u001b[0;31mSyntaxError\u001b[0m\u001b[0;31m:\u001b[0m invalid syntax\n"
     ]
    }
   ],
   "source": [
    "\n",
    "def f():\n",
    "    global x\n",
    "    x=15 # 'x' has global scope\n",
    "    print(\"inside function:\",x) \n",
    "\n",
    "f()    \n",
    "#x=20\n",
    "print(\"outside function:\",x) "
   ]
  },
  {
   "cell_type": "code",
   "execution_count": null,
   "id": "a0ef3d38",
   "metadata": {},
   "outputs": [],
   "source": []
  }
 ],
 "metadata": {
  "kernelspec": {
   "display_name": "Python 3 (ipykernel)",
   "language": "python",
   "name": "python3"
  },
  "language_info": {
   "codemirror_mode": {
    "name": "ipython",
    "version": 3
   },
   "file_extension": ".py",
   "mimetype": "text/x-python",
   "name": "python",
   "nbconvert_exporter": "python",
   "pygments_lexer": "ipython3",
   "version": "3.7.3"
  }
 },
 "nbformat": 4,
 "nbformat_minor": 5
}
