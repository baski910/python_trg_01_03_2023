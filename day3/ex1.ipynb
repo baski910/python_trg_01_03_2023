{
 "cells": [
  {
   "cell_type": "code",
   "execution_count": 1,
   "id": "cd1c1ac7",
   "metadata": {},
   "outputs": [
    {
     "name": "stdout",
     "output_type": "stream",
     "text": [
      "inside function: 20\n",
      "outside function: 20\n"
     ]
    }
   ],
   "source": [
    "\"\"\"Examples for variable with global scope\"\"\"\n",
    "\n",
    "def f():\n",
    "    print(\"inside function:\",x) # accessing the global variable, as 'x' not redefined inside the function\n",
    "\n",
    "x=20 # has a global scope    \n",
    "    \n",
    "f()\n",
    "\n",
    "print(\"outside function:\",x)"
   ]
  },
  {
   "cell_type": "code",
   "execution_count": null,
   "id": "89902380",
   "metadata": {},
   "outputs": [],
   "source": []
  }
 ],
 "metadata": {
  "kernelspec": {
   "display_name": "Python 3 (ipykernel)",
   "language": "python",
   "name": "python3"
  },
  "language_info": {
   "codemirror_mode": {
    "name": "ipython",
    "version": 3
   },
   "file_extension": ".py",
   "mimetype": "text/x-python",
   "name": "python",
   "nbconvert_exporter": "python",
   "pygments_lexer": "ipython3",
   "version": "3.7.3"
  }
 },
 "nbformat": 4,
 "nbformat_minor": 5
}
