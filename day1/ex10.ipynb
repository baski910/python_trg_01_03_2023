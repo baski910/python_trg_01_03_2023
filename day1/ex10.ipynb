{
 "cells": [
  {
   "cell_type": "code",
   "execution_count": 2,
   "id": "88da7306",
   "metadata": {},
   "outputs": [
    {
     "name": "stdout",
     "output_type": "stream",
     "text": [
      "<class 'int'> 1\n",
      "<class 'float'> 2.5\n",
      "<class 'int'> 3\n",
      "<class 'int'> 5\n",
      "<class 'int'> 7\n"
     ]
    }
   ],
   "source": [
    "list1 = [1,2.5,3,5,7]\n",
    "\n",
    "for element in list1:\n",
    "    print(type(element),element)"
   ]
  },
  {
   "cell_type": "code",
   "execution_count": null,
   "id": "14465747",
   "metadata": {},
   "outputs": [],
   "source": []
  }
 ],
 "metadata": {
  "kernelspec": {
   "display_name": "Python 3 (ipykernel)",
   "language": "python",
   "name": "python3"
  },
  "language_info": {
   "codemirror_mode": {
    "name": "ipython",
    "version": 3
   },
   "file_extension": ".py",
   "mimetype": "text/x-python",
   "name": "python",
   "nbconvert_exporter": "python",
   "pygments_lexer": "ipython3",
   "version": "3.7.3"
  }
 },
 "nbformat": 4,
 "nbformat_minor": 5
}
