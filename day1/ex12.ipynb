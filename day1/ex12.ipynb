{
 "cells": [
  {
   "cell_type": "code",
   "execution_count": 5,
   "id": "cfbfa59f",
   "metadata": {},
   "outputs": [
    {
     "name": "stdout",
     "output_type": "stream",
     "text": [
      "elements of list1: [10, 20, 30, 40, 50]\n",
      "size of list1: 5\n",
      "element removed: 30\n",
      "#################### after pop ####################\n",
      "elements of list1: [10, 20, 40, 50]\n",
      "size of list1: 4\n"
     ]
    }
   ],
   "source": [
    "# pop - By default (without any argument) removes the last element with argument removes the element at index specified by the argument\n",
    "# reduces the size of the list by 1. Returns the element removed\n",
    "\n",
    "\"\"\"Examples for pop\"\"\"\n",
    "\n",
    "list1 = [10,20,30,40,50]\n",
    "\n",
    "print(\"elements of list1:\",list1)\n",
    "print(\"size of list1:\", len(list1))\n",
    "\n",
    "#num = list1.pop()\n",
    "num = list1.pop(2)\n",
    "\n",
    "print(\"element removed:\", num)\n",
    "print(\"#\"*20+\" after pop \"+\"#\"*20)\n",
    "\n",
    "print(\"elements of list1:\",list1)\n",
    "print(\"size of list1:\", len(list1))"
   ]
  },
  {
   "cell_type": "code",
   "execution_count": null,
   "id": "651a5861",
   "metadata": {},
   "outputs": [],
   "source": [
    "list1 = [1,2,3,4]"
   ]
  },
  {
   "cell_type": "code",
   "execution_count": 3,
   "id": "a329048c",
   "metadata": {},
   "outputs": [
    {
     "name": "stdout",
     "output_type": "stream",
     "text": [
      "[]\n"
     ]
    }
   ],
   "source": [
    "list1.clear()\n",
    "print(list1)"
   ]
  },
  {
   "cell_type": "code",
   "execution_count": 4,
   "id": "8c1358c7",
   "metadata": {},
   "outputs": [
    {
     "ename": "NameError",
     "evalue": "name 'list1' is not defined",
     "output_type": "error",
     "traceback": [
      "\u001b[0;31m---------------------------------------------------------------------------\u001b[0m",
      "\u001b[0;31mNameError\u001b[0m                                 Traceback (most recent call last)",
      "\u001b[0;32m/tmp/ipykernel_13670/1227930481.py\u001b[0m in \u001b[0;36m<module>\u001b[0;34m\u001b[0m\n\u001b[1;32m      1\u001b[0m \u001b[0;32mdel\u001b[0m \u001b[0mlist1\u001b[0m\u001b[0;34m\u001b[0m\u001b[0;34m\u001b[0m\u001b[0m\n\u001b[0;32m----> 2\u001b[0;31m \u001b[0mprint\u001b[0m\u001b[0;34m(\u001b[0m\u001b[0mlist1\u001b[0m\u001b[0;34m)\u001b[0m\u001b[0;34m\u001b[0m\u001b[0;34m\u001b[0m\u001b[0m\n\u001b[0m",
      "\u001b[0;31mNameError\u001b[0m: name 'list1' is not defined"
     ]
    }
   ],
   "source": [
    "del list1\n",
    "print(list1)"
   ]
  },
  {
   "cell_type": "code",
   "execution_count": 6,
   "id": "b8cd4eca",
   "metadata": {},
   "outputs": [
    {
     "name": "stdout",
     "output_type": "stream",
     "text": [
      "elements of list1: [10, 20, 30, 40, 50]\n",
      "size of list1: 5\n",
      "#################### after remove ####################\n",
      "elements of list1: [10, 30, 40, 50]\n",
      "size of list1: 4\n"
     ]
    }
   ],
   "source": [
    "\"\"\"Examples for remove\"\"\"\n",
    "\n",
    "list1 = [10,20,30,40,50]\n",
    "\n",
    "print(\"elements of list1:\",list1)\n",
    "print(\"size of list1:\", len(list1))\n",
    "\n",
    "list1.remove(20)\n",
    "\n",
    "print(\"#\"*20+\" after remove \"+\"#\"*20)\n",
    "\n",
    "print(\"elements of list1:\",list1)\n",
    "print(\"size of list1:\", len(list1))"
   ]
  },
  {
   "cell_type": "code",
   "execution_count": 7,
   "id": "a89dca34",
   "metadata": {},
   "outputs": [
    {
     "name": "stdout",
     "output_type": "stream",
     "text": [
      "elements of list1: [10, 20, 30, 40, 20, 50, 20]\n",
      "size of list1: 7\n",
      "#################### after pop ####################\n",
      "elements of list1: [10, 30, 40, 20, 50, 20]\n",
      "size of list1: 6\n"
     ]
    }
   ],
   "source": [
    "list1 = [10,20,30,40,20,50,20]\n",
    "\n",
    "print(\"elements of list1:\",list1)\n",
    "print(\"size of list1:\", len(list1))\n",
    "\n",
    "list1.remove(20)\n",
    "\n",
    "print(\"#\"*20+\" after pop \"+\"#\"*20)\n",
    "\n",
    "print(\"elements of list1:\",list1)\n",
    "print(\"size of list1:\", len(list1))"
   ]
  },
  {
   "cell_type": "code",
   "execution_count": 8,
   "id": "d526507e",
   "metadata": {},
   "outputs": [
    {
     "name": "stdout",
     "output_type": "stream",
     "text": [
      "[10, 30, 40, 50]\n"
     ]
    }
   ],
   "source": [
    "list1 = [10,20,30,40,20,50,20]\n",
    "\n",
    "list2 = [x for x in list1 if x != 20]\n",
    "# for x in list1:\n",
    "#     if x != 20:\n",
    "#         list2.append(x)\n",
    "\n",
    "\n",
    "print(list2)"
   ]
  },
  {
   "cell_type": "code",
   "execution_count": 9,
   "id": "766d79e9",
   "metadata": {},
   "outputs": [
    {
     "ename": "ValueError",
     "evalue": "list.remove(x): x not in list",
     "output_type": "error",
     "traceback": [
      "\u001b[0;31m---------------------------------------------------------------------------\u001b[0m",
      "\u001b[0;31mValueError\u001b[0m                                Traceback (most recent call last)",
      "\u001b[0;32m/tmp/ipykernel_13670/722018417.py\u001b[0m in \u001b[0;36m<module>\u001b[0;34m\u001b[0m\n\u001b[1;32m      1\u001b[0m \u001b[0mlist1\u001b[0m \u001b[0;34m=\u001b[0m \u001b[0;34m[\u001b[0m\u001b[0;36m10\u001b[0m\u001b[0;34m,\u001b[0m\u001b[0;36m20\u001b[0m\u001b[0;34m,\u001b[0m\u001b[0;36m30\u001b[0m\u001b[0;34m,\u001b[0m\u001b[0;36m40\u001b[0m\u001b[0;34m,\u001b[0m\u001b[0;36m20\u001b[0m\u001b[0;34m,\u001b[0m\u001b[0;36m50\u001b[0m\u001b[0;34m,\u001b[0m\u001b[0;36m20\u001b[0m\u001b[0;34m]\u001b[0m\u001b[0;34m\u001b[0m\u001b[0;34m\u001b[0m\u001b[0m\n\u001b[1;32m      2\u001b[0m \u001b[0;34m\u001b[0m\u001b[0m\n\u001b[0;32m----> 3\u001b[0;31m \u001b[0mlist1\u001b[0m\u001b[0;34m.\u001b[0m\u001b[0mremove\u001b[0m\u001b[0;34m(\u001b[0m\u001b[0;36m80\u001b[0m\u001b[0;34m)\u001b[0m\u001b[0;34m\u001b[0m\u001b[0;34m\u001b[0m\u001b[0m\n\u001b[0m",
      "\u001b[0;31mValueError\u001b[0m: list.remove(x): x not in list"
     ]
    }
   ],
   "source": [
    "list1 = [10,20,30,40,20,50,20]\n",
    "\n",
    "list1.remove(80)"
   ]
  },
  {
   "cell_type": "code",
   "execution_count": 11,
   "id": "51e3535b",
   "metadata": {},
   "outputs": [
    {
     "name": "stdout",
     "output_type": "stream",
     "text": [
      "[10, 30, 40, 50]\n"
     ]
    }
   ],
   "source": [
    "list1 = [10,20,30,40,20,50,20]\n",
    "while 20 in list1:\n",
    "    list1.remove(20)\n",
    "print(list1)  "
   ]
  },
  {
   "cell_type": "code",
   "execution_count": null,
   "id": "cfe0e3b8",
   "metadata": {},
   "outputs": [],
   "source": []
  }
 ],
 "metadata": {
  "kernelspec": {
   "display_name": "Python 3 (ipykernel)",
   "language": "python",
   "name": "python3"
  },
  "language_info": {
   "codemirror_mode": {
    "name": "ipython",
    "version": 3
   },
   "file_extension": ".py",
   "mimetype": "text/x-python",
   "name": "python",
   "nbconvert_exporter": "python",
   "pygments_lexer": "ipython3",
   "version": "3.7.3"
  }
 },
 "nbformat": 4,
 "nbformat_minor": 5
}
