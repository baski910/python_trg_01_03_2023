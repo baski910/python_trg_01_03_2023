{
 "cells": [
  {
   "cell_type": "code",
   "execution_count": 1,
   "id": "d8dbfef0",
   "metadata": {},
   "outputs": [
    {
     "name": "stdout",
     "output_type": "stream",
     "text": [
      "HELLOWORLD\n"
     ]
    }
   ],
   "source": [
    "# string functions\n",
    "#upper - returns a string with all UPPERCASE\n",
    "#find - returns the index of 1st occurance of substring inside the string. if substring is not found returns -1\n",
    "#index - returns the index of 1st occurance of substring inside the string. if substring is not found throws error\n",
    "#count - returns the number of occcurances of substring inside the string. returns 0 if substring not found\n",
    "#isdigit - returns true if the character is a digit\n",
    "#split - returns a list, by spliting the string using the delimiter passed as an argument. whitespace is the default delimiter\n",
    "s1=\"helloworld\"\n",
    "\n",
    "print(s1.upper()) # output will be HELLOWORLD"
   ]
  },
  {
   "cell_type": "code",
   "execution_count": 2,
   "id": "3c945ea2",
   "metadata": {},
   "outputs": [
    {
     "name": "stdout",
     "output_type": "stream",
     "text": [
      "5\n"
     ]
    }
   ],
   "source": [
    "print(s1.find('w')) # output will be 5"
   ]
  },
  {
   "cell_type": "code",
   "execution_count": 11,
   "id": "0248d0eb",
   "metadata": {},
   "outputs": [
    {
     "name": "stdout",
     "output_type": "stream",
     "text": [
      "5\n",
      "9\n"
     ]
    }
   ],
   "source": [
    "s1 = \"helloworldworld\"\n",
    "cindex = 0\n",
    "pos = s1.find('w') # pos =5 s1[5:].find('w')  # s1 - 15  10th\n",
    "cindex += pos\n",
    "print(cindex)\n",
    "while True:\n",
    "    s1 = s1[pos+1:]\n",
    "    if s1.find('w')==-1:\n",
    "        break\n",
    "    pos = s1.find('w')\n",
    "    cindex+=pos\n",
    "    print(cindex) "
   ]
  },
  {
   "cell_type": "code",
   "execution_count": 12,
   "id": "2ddffb1b",
   "metadata": {},
   "outputs": [
    {
     "name": "stdout",
     "output_type": "stream",
     "text": [
      "5\n"
     ]
    }
   ],
   "source": [
    "s1 = \"helloworld\"\n",
    "\n",
    "print(s1.index(\"w\"))"
   ]
  },
  {
   "cell_type": "code",
   "execution_count": 13,
   "id": "95d9f3dd",
   "metadata": {},
   "outputs": [
    {
     "ename": "ValueError",
     "evalue": "substring not found",
     "output_type": "error",
     "traceback": [
      "\u001b[0;31m---------------------------------------------------------------------------\u001b[0m",
      "\u001b[0;31mValueError\u001b[0m                                Traceback (most recent call last)",
      "\u001b[0;32m/tmp/ipykernel_8491/393109530.py\u001b[0m in \u001b[0;36m<module>\u001b[0;34m\u001b[0m\n\u001b[0;32m----> 1\u001b[0;31m \u001b[0mprint\u001b[0m\u001b[0;34m(\u001b[0m\u001b[0ms1\u001b[0m\u001b[0;34m.\u001b[0m\u001b[0mindex\u001b[0m\u001b[0;34m(\u001b[0m\u001b[0;34m\"a\"\u001b[0m\u001b[0;34m)\u001b[0m\u001b[0;34m)\u001b[0m\u001b[0;34m\u001b[0m\u001b[0;34m\u001b[0m\u001b[0m\n\u001b[0m",
      "\u001b[0;31mValueError\u001b[0m: substring not found"
     ]
    }
   ],
   "source": [
    "print(s1.index(\"a\"))"
   ]
  },
  {
   "cell_type": "code",
   "execution_count": 14,
   "id": "90403af7",
   "metadata": {},
   "outputs": [
    {
     "name": "stdout",
     "output_type": "stream",
     "text": [
      "5\n",
      "9\n"
     ]
    }
   ],
   "source": [
    "s1 = \"helloworldworld\"\n",
    "cindex = 0\n",
    "pos = s1.index('w') # pos =5 s1[5:].find('w')  # s1 - 15  10th\n",
    "cindex += pos\n",
    "print(cindex)\n",
    "while True:\n",
    "    try:\n",
    "        s1 = s1[pos+1:]\n",
    "        pos = s1.index('w')\n",
    "        cindex+=pos\n",
    "        print(cindex) \n",
    "    except:\n",
    "        break\n",
    "        "
   ]
  },
  {
   "cell_type": "code",
   "execution_count": 15,
   "id": "a132ca0d",
   "metadata": {},
   "outputs": [
    {
     "name": "stdout",
     "output_type": "stream",
     "text": [
      "3\n"
     ]
    }
   ],
   "source": [
    "s1 = \"helloworld\"\n",
    "\n",
    "print(s1.count(\"l\"))"
   ]
  },
  {
   "cell_type": "code",
   "execution_count": 16,
   "id": "59c7284b",
   "metadata": {},
   "outputs": [
    {
     "name": "stdout",
     "output_type": "stream",
     "text": [
      "hemmowormd\n"
     ]
    }
   ],
   "source": [
    "s1 = \"helloworld\"\n",
    "\n",
    "print(s1.replace(\"l\",\"m\"))"
   ]
  },
  {
   "cell_type": "code",
   "execution_count": 17,
   "id": "98a64f1d",
   "metadata": {},
   "outputs": [
    {
     "name": "stdout",
     "output_type": "stream",
     "text": [
      "['2023', '03', '01']\n"
     ]
    }
   ],
   "source": [
    "curday = \"2023-03-01\"\n",
    "\n",
    "days = curday.split(\"-\")\n",
    "\n",
    "print(days)"
   ]
  },
  {
   "cell_type": "code",
   "execution_count": null,
   "id": "5f227198",
   "metadata": {},
   "outputs": [],
   "source": []
  }
 ],
 "metadata": {
  "kernelspec": {
   "display_name": "Python 3 (ipykernel)",
   "language": "python",
   "name": "python3"
  },
  "language_info": {
   "codemirror_mode": {
    "name": "ipython",
    "version": 3
   },
   "file_extension": ".py",
   "mimetype": "text/x-python",
   "name": "python",
   "nbconvert_exporter": "python",
   "pygments_lexer": "ipython3",
   "version": "3.7.3"
  }
 },
 "nbformat": 4,
 "nbformat_minor": 5
}
