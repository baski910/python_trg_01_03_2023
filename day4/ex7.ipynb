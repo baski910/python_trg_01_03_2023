{
 "cells": [
  {
   "cell_type": "code",
   "execution_count": 2,
   "id": "a52cec74",
   "metadata": {},
   "outputs": [
    {
     "name": "stdout",
     "output_type": "stream",
     "text": [
      "Enter a string\n",
      "www.mydomain.com\n",
      "mydomain\n",
      "com\n"
     ]
    }
   ],
   "source": [
    "######################################################\n",
    "# regular expression - user defined expression to match\n",
    "#                      extract from the given input\n",
    "# metacharacters - . * + ? {} () [] \\w \\d \\b ^ $\n",
    "#\n",
    "# re - module used to work with regular expression\n",
    "# www.mydomain.com - www.(....).com\n",
    "########################################################\n",
    "\n",
    "import re\n",
    "\n",
    "s1 = input(\"Enter a string\\n\")\n",
    "\n",
    "sobj = re.search(r'.*\\.(.*)\\.(.*)',s1)\n",
    "\n",
    "if sobj:\n",
    "    print(sobj.group(1)) # returns characters between 2 dot\n",
    "    print(sobj.group(2)) # returns characters after 2 dot\n",
    "\n",
    "else:\n",
    "    print(\"not matched\")"
   ]
  },
  {
   "cell_type": "code",
   "execution_count": null,
   "id": "cb8b118f",
   "metadata": {},
   "outputs": [],
   "source": []
  }
 ],
 "metadata": {
  "kernelspec": {
   "display_name": "Python 3 (ipykernel)",
   "language": "python",
   "name": "python3"
  },
  "language_info": {
   "codemirror_mode": {
    "name": "ipython",
    "version": 3
   },
   "file_extension": ".py",
   "mimetype": "text/x-python",
   "name": "python",
   "nbconvert_exporter": "python",
   "pygments_lexer": "ipython3",
   "version": "3.7.3"
  }
 },
 "nbformat": 4,
 "nbformat_minor": 5
}
