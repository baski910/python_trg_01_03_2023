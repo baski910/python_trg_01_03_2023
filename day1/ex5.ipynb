{
 "cells": [
  {
   "cell_type": "code",
   "execution_count": 1,
   "id": "bdb5914a",
   "metadata": {},
   "outputs": [
    {
     "name": "stdout",
     "output_type": "stream",
     "text": [
      "h\n",
      "e\n",
      "l\n",
      "l\n",
      "o\n",
      "w\n",
      "o\n",
      "r\n",
      "l\n",
      "d\n"
     ]
    }
   ],
   "source": [
    "\"\"\"Examples using string\"\"\"\n",
    "\n",
    "s1=\"helloworld\"\n",
    "\n",
    "#iterate over each character\n",
    "for char in s1:\n",
    "    print(char)"
   ]
  },
  {
   "cell_type": "code",
   "execution_count": 2,
   "id": "a2d70df9",
   "metadata": {},
   "outputs": [
    {
     "name": "stdout",
     "output_type": "stream",
     "text": [
      "o\n"
     ]
    }
   ],
   "source": [
    "#return character at index 4\n",
    "print(s1[4]) # output will be 'o'"
   ]
  },
  {
   "cell_type": "code",
   "execution_count": 3,
   "id": "36d5dd6d",
   "metadata": {},
   "outputs": [
    {
     "name": "stdout",
     "output_type": "stream",
     "text": [
      "d\n"
     ]
    }
   ],
   "source": [
    "#preturn the last character using negative index\n",
    "print(s1[-1]) # output will be 'd'"
   ]
  },
  {
   "cell_type": "code",
   "execution_count": 4,
   "id": "2d8c9e31",
   "metadata": {},
   "outputs": [
    {
     "name": "stdout",
     "output_type": "stream",
     "text": [
      "ello\n"
     ]
    }
   ],
   "source": [
    "#retuns character starting from index 1 upto index 5(not including). i.e., prints character at index 1,2,3 and 4\n",
    "print(s1[1:5])"
   ]
  },
  {
   "cell_type": "code",
   "execution_count": 5,
   "id": "9a7f0e2b",
   "metadata": {},
   "outputs": [
    {
     "name": "stdout",
     "output_type": "stream",
     "text": [
      "hello\n"
     ]
    }
   ],
   "source": [
    "#returns characters from beginning of the string upto index specified by upper limit\n",
    "print(s1[:5]) # output will be 'hello'"
   ]
  },
  {
   "cell_type": "code",
   "execution_count": 6,
   "id": "3a966d98",
   "metadata": {},
   "outputs": [
    {
     "name": "stdout",
     "output_type": "stream",
     "text": [
      "world\n"
     ]
    }
   ],
   "source": [
    "#returns characters upto end of the string from index specified by lower limit\n",
    "print(s1[5:]) # output will be 'world'"
   ]
  },
  {
   "cell_type": "code",
   "execution_count": 8,
   "id": "eebcaaa3",
   "metadata": {},
   "outputs": [
    {
     "name": "stdout",
     "output_type": "stream",
     "text": [
      "helloworld\n"
     ]
    }
   ],
   "source": [
    "#returns characters upto end of the string from index specified by lower limit\n",
    "print(s1[:]) # output will be 'world'"
   ]
  },
  {
   "cell_type": "code",
   "execution_count": 9,
   "id": "189e411d",
   "metadata": {},
   "outputs": [
    {
     "name": "stdout",
     "output_type": "stream",
     "text": [
      "elwr\n"
     ]
    }
   ],
   "source": [
    "#returns characters upto end of the string from index specified by lower limit\n",
    "print(s1[1:8:2]) # 1,3,5 and 7"
   ]
  },
  {
   "cell_type": "code",
   "execution_count": 11,
   "id": "a57c0379",
   "metadata": {},
   "outputs": [
    {
     "name": "stdout",
     "output_type": "stream",
     "text": [
      "hlool\n"
     ]
    }
   ],
   "source": [
    "print(s1[::2])"
   ]
  },
  {
   "cell_type": "code",
   "execution_count": 12,
   "id": "4e5b3539",
   "metadata": {},
   "outputs": [
    {
     "name": "stdout",
     "output_type": "stream",
     "text": [
      "dlrowolleh\n"
     ]
    }
   ],
   "source": [
    "print(s1[::-1])"
   ]
  },
  {
   "cell_type": "code",
   "execution_count": 13,
   "id": "9bd417e5",
   "metadata": {},
   "outputs": [
    {
     "name": "stdout",
     "output_type": "stream",
     "text": [
      "helloworld\n"
     ]
    }
   ],
   "source": [
    "\n",
    "s2 = \"hello\"\n",
    "s3 = \"world\"\n",
    "\n",
    "print(s2+s3)"
   ]
  },
  {
   "cell_type": "code",
   "execution_count": 14,
   "id": "b1db9a06",
   "metadata": {},
   "outputs": [
    {
     "name": "stdout",
     "output_type": "stream",
     "text": [
      "hello world\n"
     ]
    }
   ],
   "source": [
    "print(s2+\" \"+s3)"
   ]
  },
  {
   "cell_type": "code",
   "execution_count": 16,
   "id": "aafbb571",
   "metadata": {},
   "outputs": [
    {
     "name": "stdout",
     "output_type": "stream",
     "text": [
      "palindrome\n"
     ]
    }
   ],
   "source": [
    "s3 = \"mum\"\n",
    "\n",
    "if s3 == s3[::-1]:\n",
    "    print(\"palindrome\")"
   ]
  },
  {
   "cell_type": "code",
   "execution_count": 17,
   "id": "d415c08e",
   "metadata": {},
   "outputs": [
    {
     "name": "stdout",
     "output_type": "stream",
     "text": [
      "############################################################\n"
     ]
    }
   ],
   "source": [
    "print('#'*60)"
   ]
  },
  {
   "cell_type": "code",
   "execution_count": 18,
   "id": "0b5f188b",
   "metadata": {},
   "outputs": [
    {
     "name": "stdout",
     "output_type": "stream",
     "text": [
      "['cat', 'sat', 'on', 'the', 'mat']\n"
     ]
    }
   ],
   "source": [
    "s4 = \"cat sat on the mat\"\n",
    "words = s4.split()\n",
    "\n",
    "print(words)"
   ]
  },
  {
   "cell_type": "code",
   "execution_count": 21,
   "id": "262b1ce2",
   "metadata": {},
   "outputs": [
    {
     "name": "stdout",
     "output_type": "stream",
     "text": [
      "number of words: 247\n"
     ]
    }
   ],
   "source": [
    "# count the number of words\n",
    "fh = open('readme.txt','r') # r - string literal (or) raw string\n",
    "\n",
    "count = 0\n",
    "\n",
    "for line in fh.readlines():\n",
    "    words = line.split()\n",
    "    #print(words)\n",
    "    count += len(words)\n",
    "\n",
    "print(\"number of words:\",count)\n",
    "fh.close()"
   ]
  },
  {
   "cell_type": "code",
   "execution_count": null,
   "id": "62afb33c",
   "metadata": {},
   "outputs": [],
   "source": []
  }
 ],
 "metadata": {
  "kernelspec": {
   "display_name": "Python 3 (ipykernel)",
   "language": "python",
   "name": "python3"
  },
  "language_info": {
   "codemirror_mode": {
    "name": "ipython",
    "version": 3
   },
   "file_extension": ".py",
   "mimetype": "text/x-python",
   "name": "python",
   "nbconvert_exporter": "python",
   "pygments_lexer": "ipython3",
   "version": "3.7.3"
  }
 },
 "nbformat": 4,
 "nbformat_minor": 5
}
