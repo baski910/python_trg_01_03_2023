{
 "cells": [
  {
   "cell_type": "code",
   "execution_count": 1,
   "id": "4078a228",
   "metadata": {},
   "outputs": [],
   "source": [
    "# Exception handling\n",
    "# try\n",
    "#   TODO\n",
    "# except ErrorClass:\n",
    "#   TODO\n",
    "# else\n",
    "#   TODO\n",
    "# finally\n",
    "#   TODO"
   ]
  },
  {
   "cell_type": "code",
   "execution_count": 3,
   "id": "2fdd8d7c",
   "metadata": {},
   "outputs": [
    {
     "name": "stdout",
     "output_type": "stream",
     "text": [
      "Enter a numberhello\n",
      "some error\n",
      "script continues here ...\n"
     ]
    }
   ],
   "source": [
    "try:\n",
    "    num = int(input(\"Enter a number\"))\n",
    "    print(num)\n",
    "except:\n",
    "    print(\"some error\")\n",
    "\n",
    "print(\"script continues here ...\")"
   ]
  },
  {
   "cell_type": "code",
   "execution_count": 5,
   "id": "661fb320",
   "metadata": {},
   "outputs": [
    {
     "name": "stdout",
     "output_type": "stream",
     "text": [
      "Enter a numberhello\n",
      "some error (<class 'ValueError'>, ValueError(\"invalid literal for int() with base 10: 'hello'\"), <traceback object at 0x7f27e44cbe08>)\n",
      "script continues here ...\n"
     ]
    }
   ],
   "source": [
    "import sys\n",
    "try:\n",
    "    num = int(input(\"Enter a number\"))\n",
    "    print(num)\n",
    "except ValueError:\n",
    "    print(\"some error\",sys.exc_info())\n",
    "\n",
    "print(\"script continues here ...\")"
   ]
  },
  {
   "cell_type": "code",
   "execution_count": 21,
   "id": "9a2f5e84",
   "metadata": {},
   "outputs": [
    {
     "name": "stdout",
     "output_type": "stream",
     "text": [
      "Could not convert data to an integer.\n"
     ]
    }
   ],
   "source": [
    "import sys\n",
    "try:\n",
    "    f = open('myfile.txt','r')\n",
    "    s = f.readline()\n",
    "    i = int(s.strip())\n",
    "    \n",
    "except IOError as e:\n",
    "    print(\"I/O error({0}): {1}\".format(e.errno, e.strerror))\n",
    "except ValueError:\n",
    "    print(\"Could not convert data to an integer.\") \n",
    "except:\n",
    "    print(\"Unexpected error:\", sys.exc_info()[0]) \n",
    "else:\n",
    "    print(i)\n",
    "    print(\"executed only when try succeeds\")"
   ]
  },
  {
   "cell_type": "code",
   "execution_count": 25,
   "id": "02de092b",
   "metadata": {},
   "outputs": [],
   "source": [
    "# custom exception should take Exception as parent class\n",
    "class CustomError(Exception):\n",
    "    def __init__(self,mesg):\n",
    "        self.message = mesg\n",
    "    def __repr__(self):\n",
    "        return self.message"
   ]
  },
  {
   "cell_type": "code",
   "execution_count": 24,
   "id": "11c13055",
   "metadata": {},
   "outputs": [
    {
     "name": "stdout",
     "output_type": "stream",
     "text": [
      "negative value not accepted\n"
     ]
    }
   ],
   "source": [
    "def calculateinterest(p,n,r):\n",
    "    if r<=0:\n",
    "        raise CustomError(\"rate of int negative\")\n",
    "    if n<=0:\n",
    "        raise CustomError(\"number of years negative\")\n",
    "    \n",
    "    return p*n*r/100\n",
    "\n",
    "try:\n",
    "    #p = int(input())\n",
    "    #n = input()\n",
    "    #r = input()\n",
    "    calculateinterest(1000,-2,8)\n",
    "except CustomError as e:\n",
    "    print(e)\n",
    "    \n"
   ]
  },
  {
   "cell_type": "code",
   "execution_count": null,
   "id": "58b4a9a4",
   "metadata": {},
   "outputs": [],
   "source": [
    "# finally - will be executed\n",
    "import time\n",
    "try:\n",
    "    count = 0\n",
    "    while True:\n",
    "        count += 1\n",
    "        print(\"hello\")\n",
    "        if count == 5:\n",
    "            break\n",
    "        else:\n",
    "            time.sleep(2)\n",
    "except KeyboardInterrupt:\n",
    "    print(\"ctrl and c pressed\")\n",
    "finally:\n",
    "    print(\"will always be executed\")"
   ]
  }
 ],
 "metadata": {
  "kernelspec": {
   "display_name": "Python 3 (ipykernel)",
   "language": "python",
   "name": "python3"
  },
  "language_info": {
   "codemirror_mode": {
    "name": "ipython",
    "version": 3
   },
   "file_extension": ".py",
   "mimetype": "text/x-python",
   "name": "python",
   "nbconvert_exporter": "python",
   "pygments_lexer": "ipython3",
   "version": "3.7.3"
  }
 },
 "nbformat": 4,
 "nbformat_minor": 5
}
