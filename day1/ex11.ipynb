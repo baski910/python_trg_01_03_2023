{
 "cells": [
  {
   "cell_type": "code",
   "execution_count": 1,
   "id": "daeb8bae",
   "metadata": {},
   "outputs": [],
   "source": [
    "#append - takes 1 argument. argument is added to the end of the list.\n",
    "#increases the size of the list by 1.\n",
    "#extend - takes 1 argument. argument must be a sequence. adds the elements of\n",
    "#sequence to end of the list. Increases the size of the list by size of argument passed\n",
    "#insert - takes 2 argument. 1st parameter is position. 2nd parameter is the\n",
    "#element to be added. add the 2nd parameter at the position specified by 1st parameter\n",
    "#and increase the size of the list by 1"
   ]
  },
  {
   "cell_type": "code",
   "execution_count": 3,
   "id": "c73d816d",
   "metadata": {},
   "outputs": [
    {
     "name": "stdout",
     "output_type": "stream",
     "text": [
      "elements of list1: [10, 20, 30, 40]\n",
      "size of list1: 4\n",
      "#################### after append ####################\n",
      "elements of list1: [10, 20, 30, 40, [50, 60, 70]]\n",
      "size of list1: 5\n"
     ]
    }
   ],
   "source": [
    "\"\"\"Examples for adding elements to list\"\"\"\n",
    "\n",
    "list1 = [10,20,30,40]\n",
    "\n",
    "print(\"elements of list1:\",list1)\n",
    "print(\"size of list1:\",len(list1))\n",
    "\n",
    "#list1.append(50)\n",
    "list1.append([50,60,70])\n",
    "print(\"#\"*20+\" after append \"+\"#\"*20)\n",
    "\n",
    "print(\"elements of list1:\",list1)\n",
    "print(\"size of list1:\",len(list1))"
   ]
  },
  {
   "cell_type": "code",
   "execution_count": 4,
   "id": "f7a6ab9b",
   "metadata": {},
   "outputs": [
    {
     "name": "stdout",
     "output_type": "stream",
     "text": [
      "elements of list1: [10, 20, 30, 40]\n",
      "size of list1: 4\n",
      "#################### after extend ####################\n",
      "elements of list1: [10, 20, 30, 40, 50, 60, 70]\n",
      "size of list1: 7\n"
     ]
    }
   ],
   "source": [
    "list1 = [10,20,30,40]\n",
    "\n",
    "print(\"elements of list1:\",list1)\n",
    "print(\"size of list1:\",len(list1))\n",
    "\n",
    "list1.extend([50,60,70])\n",
    "\n",
    "print(\"#\"*20+\" after extend \"+\"#\"*20)\n",
    "\n",
    "print(\"elements of list1:\",list1)\n",
    "print(\"size of list1:\",len(list1))"
   ]
  },
  {
   "cell_type": "code",
   "execution_count": 9,
   "id": "c035411d",
   "metadata": {},
   "outputs": [
    {
     "name": "stdout",
     "output_type": "stream",
     "text": [
      "elements of list1: [10, 20, 30, 40]\n",
      "size of list1: 4\n",
      "#################### after insert ####################\n",
      "elements of list1: [10, 20, 30, 50, 40]\n",
      "5\n"
     ]
    }
   ],
   "source": [
    "list1 = [10,20,30,40]\n",
    "\n",
    "print(\"elements of list1:\",list1)\n",
    "print(\"size of list1:\",len(list1))\n",
    "\n",
    "list1.insert(2,50)\n",
    "\n",
    "print(\"#\"*20+\" after insert \"+\"#\"*20)\n",
    "\n",
    "print(\"elements of list1:\",list1)\n",
    "print(len(list1))"
   ]
  },
  {
   "cell_type": "code",
   "execution_count": 6,
   "id": "629e5e64",
   "metadata": {},
   "outputs": [
    {
     "name": "stdout",
     "output_type": "stream",
     "text": [
      "elements of list1: [10, 20, 30, 40]\n",
      "size of list1: 4\n",
      "#################### after insert ####################\n",
      "elements of list1: [10, 20, [50, 60, 70], 30, 40]\n",
      "5\n"
     ]
    }
   ],
   "source": [
    "list1 = [10,20,30,40]\n",
    "\n",
    "print(\"elements of list1:\",list1)\n",
    "print(\"size of list1:\",len(list1))\n",
    "\n",
    "list1.insert(2,[50,60,70])\n",
    "\n",
    "print(\"#\"*20+\" after insert \"+\"#\"*20)\n",
    "\n",
    "print(\"elements of list1:\",list1)\n",
    "print(len(list1))"
   ]
  },
  {
   "cell_type": "code",
   "execution_count": null,
   "id": "cd6b9b07",
   "metadata": {},
   "outputs": [],
   "source": []
  }
 ],
 "metadata": {
  "kernelspec": {
   "display_name": "Python 3 (ipykernel)",
   "language": "python",
   "name": "python3"
  },
  "language_info": {
   "codemirror_mode": {
    "name": "ipython",
    "version": 3
   },
   "file_extension": ".py",
   "mimetype": "text/x-python",
   "name": "python",
   "nbconvert_exporter": "python",
   "pygments_lexer": "ipython3",
   "version": "3.7.3"
  }
 },
 "nbformat": 4,
 "nbformat_minor": 5
}
