{
 "cells": [
  {
   "cell_type": "code",
   "execution_count": 1,
   "id": "793d3ef8",
   "metadata": {},
   "outputs": [
    {
     "name": "stdout",
     "output_type": "stream",
     "text": [
      "from example1\n",
      "from example2\n",
      "from example3\n"
     ]
    }
   ],
   "source": [
    "import mypackage1\n",
    "\n",
    "mypackage1.f()\n",
    "mypackage1.g()\n",
    "mypackage1.dir1.m()"
   ]
  },
  {
   "cell_type": "code",
   "execution_count": null,
   "id": "b30f5590",
   "metadata": {},
   "outputs": [],
   "source": []
  }
 ],
 "metadata": {
  "kernelspec": {
   "display_name": "Python 3 (ipykernel)",
   "language": "python",
   "name": "python3"
  },
  "language_info": {
   "codemirror_mode": {
    "name": "ipython",
    "version": 3
   },
   "file_extension": ".py",
   "mimetype": "text/x-python",
   "name": "python",
   "nbconvert_exporter": "python",
   "pygments_lexer": "ipython3",
   "version": "3.7.3"
  }
 },
 "nbformat": 4,
 "nbformat_minor": 5
}
