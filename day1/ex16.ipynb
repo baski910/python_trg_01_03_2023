{
 "cells": [
  {
   "cell_type": "code",
   "execution_count": 2,
   "id": "85c56fa0",
   "metadata": {},
   "outputs": [
    {
     "name": "stdout",
     "output_type": "stream",
     "text": [
      "[['bob', 54, 'computer'], ['alice', 58, 'chemistry'], ['joe', 60, 'maths'], ['charles', 62, 'physics']]\n"
     ]
    }
   ],
   "source": [
    "\"\"\"Examples for sorting list of list \"\"\"\n",
    "\n",
    "list1 =[\n",
    "    ['joe',60,'maths'],\n",
    "    ['charles',62,'physics'],\n",
    "    ['alice',58,'chemistry'],\n",
    "    ['bob',54,'computer'],\n",
    "]\n",
    "\n",
    "def f(x):\n",
    "    return x[1]\n",
    "\n",
    "#list1.sort() # sort based on first element from each list\n",
    "list1.sort(key=f)\n",
    "\n",
    "print(list1)"
   ]
  },
  {
   "cell_type": "code",
   "execution_count": null,
   "id": "1dc7f180",
   "metadata": {},
   "outputs": [],
   "source": []
  }
 ],
 "metadata": {
  "kernelspec": {
   "display_name": "Python 3 (ipykernel)",
   "language": "python",
   "name": "python3"
  },
  "language_info": {
   "codemirror_mode": {
    "name": "ipython",
    "version": 3
   },
   "file_extension": ".py",
   "mimetype": "text/x-python",
   "name": "python",
   "nbconvert_exporter": "python",
   "pygments_lexer": "ipython3",
   "version": "3.7.3"
  }
 },
 "nbformat": 4,
 "nbformat_minor": 5
}
