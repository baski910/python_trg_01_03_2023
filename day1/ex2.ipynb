{
 "cells": [
  {
   "cell_type": "code",
   "execution_count": 2,
   "id": "9df26026",
   "metadata": {},
   "outputs": [
    {
     "name": "stdout",
     "output_type": "stream",
     "text": [
      "the decimal form of reference of a with value 1: 9079008\n",
      "value of a: 1\n"
     ]
    }
   ],
   "source": [
    "a=1\n",
    "print(\"the decimal form of reference of a with value 1:\",id(a))\n",
    "print(\"value of a:\",a)"
   ]
  },
  {
   "cell_type": "code",
   "execution_count": 3,
   "id": "8146ab09",
   "metadata": {},
   "outputs": [
    {
     "name": "stdout",
     "output_type": "stream",
     "text": [
      "the decimal form of reference of a with value 2: 9079040\n",
      "value of a: 2\n"
     ]
    }
   ],
   "source": [
    "a=2\n",
    "print(\"the decimal form of reference of a with value 2:\",id(a))\n",
    "print(\"value of a:\",a)"
   ]
  },
  {
   "cell_type": "code",
   "execution_count": 4,
   "id": "a2b68ec7",
   "metadata": {},
   "outputs": [
    {
     "name": "stdout",
     "output_type": "stream",
     "text": [
      "the decimal form of reference of b with value 2: 9079040\n",
      "value of b: 2\n"
     ]
    }
   ],
   "source": [
    "b = 2\n",
    "print(\"the decimal form of reference of b with value 2:\",id(b))\n",
    "print(\"value of b:\",b)"
   ]
  },
  {
   "cell_type": "code",
   "execution_count": 5,
   "id": "f2ffb79c",
   "metadata": {},
   "outputs": [],
   "source": [
    "b = a # this assignment assigns only the reference"
   ]
  },
  {
   "cell_type": "code",
   "execution_count": 6,
   "id": "dc27650b",
   "metadata": {},
   "outputs": [
    {
     "name": "stdout",
     "output_type": "stream",
     "text": [
      "the decimal form of reference of c with value 1: 9079008\n",
      "value of c: 1\n"
     ]
    }
   ],
   "source": [
    "c = 1\n",
    "print(\"the decimal form of reference of c with value 1:\",id(c))\n",
    "print(\"value of c:\",c)"
   ]
  },
  {
   "cell_type": "code",
   "execution_count": null,
   "id": "2f1272a3",
   "metadata": {},
   "outputs": [],
   "source": []
  }
 ],
 "metadata": {
  "kernelspec": {
   "display_name": "Python 3 (ipykernel)",
   "language": "python",
   "name": "python3"
  },
  "language_info": {
   "codemirror_mode": {
    "name": "ipython",
    "version": 3
   },
   "file_extension": ".py",
   "mimetype": "text/x-python",
   "name": "python",
   "nbconvert_exporter": "python",
   "pygments_lexer": "ipython3",
   "version": "3.7.3"
  }
 },
 "nbformat": 4,
 "nbformat_minor": 5
}
