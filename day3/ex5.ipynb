{
 "cells": [
  {
   "cell_type": "code",
   "execution_count": 4,
   "id": "e651baa5",
   "metadata": {},
   "outputs": [
    {
     "name": "stdout",
     "output_type": "stream",
     "text": [
      "1\n",
      "2\n",
      "3\n",
      "4\n"
     ]
    }
   ],
   "source": [
    "# function becomes iterable as 'yield' keyword has been used inside\n",
    "def genseq():\n",
    "    count = 0\n",
    "    while count<4:\n",
    "        count += 1\n",
    "        yield count\n",
    "    #return 1\n",
    "    #return 2\n",
    "    #return 3\n",
    "    #yield 1\n",
    "    #yield 2\n",
    "    #yield 3\n",
    "\n",
    "# iterate over the function\n",
    "for num in genseq():\n",
    "    print(num)"
   ]
  },
  {
   "cell_type": "code",
   "execution_count": 10,
   "id": "c6b2d69f",
   "metadata": {},
   "outputs": [
    {
     "name": "stdout",
     "output_type": "stream",
     "text": [
      "1\t2\t3\t4\t5\t6\t7\t8\t9\t10\t11\t12\t13\t14\t15\t16\t17\t18\t19\t20\t"
     ]
    }
   ],
   "source": [
    "def findsum(n):\n",
    "    nums = 0\n",
    "    while nums < n:\n",
    "        nums += 1\n",
    "        yield nums\n",
    "        \n",
    "for num in findsum(20):\n",
    "    print(num,end = \"\\t\")"
   ]
  },
  {
   "cell_type": "code",
   "execution_count": 8,
   "id": "4e93fc2a",
   "metadata": {},
   "outputs": [
    {
     "name": "stdout",
     "output_type": "stream",
     "text": [
      "2000001000000\n"
     ]
    }
   ],
   "source": [
    "print(sum(findsum(2000000)))"
   ]
  },
  {
   "cell_type": "code",
   "execution_count": null,
   "id": "7403df6e",
   "metadata": {},
   "outputs": [],
   "source": []
  }
 ],
 "metadata": {
  "kernelspec": {
   "display_name": "Python 3 (ipykernel)",
   "language": "python",
   "name": "python3"
  },
  "language_info": {
   "codemirror_mode": {
    "name": "ipython",
    "version": 3
   },
   "file_extension": ".py",
   "mimetype": "text/x-python",
   "name": "python",
   "nbconvert_exporter": "python",
   "pygments_lexer": "ipython3",
   "version": "3.7.3"
  }
 },
 "nbformat": 4,
 "nbformat_minor": 5
}
