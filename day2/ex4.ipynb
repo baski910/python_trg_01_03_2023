{
 "cells": [
  {
   "cell_type": "code",
   "execution_count": 1,
   "id": "0d675da4",
   "metadata": {},
   "outputs": [
    {
     "name": "stdout",
     "output_type": "stream",
     "text": [
      "alice\n"
     ]
    },
    {
     "ename": "KeyError",
     "evalue": "'lname'",
     "output_type": "error",
     "traceback": [
      "\u001b[0;31m---------------------------------------------------------------------------\u001b[0m",
      "\u001b[0;31mKeyError\u001b[0m                                  Traceback (most recent call last)",
      "\u001b[0;32m/tmp/ipykernel_6468/412150697.py\u001b[0m in \u001b[0;36m<module>\u001b[0;34m\u001b[0m\n\u001b[1;32m      5\u001b[0m \u001b[0mprint\u001b[0m\u001b[0;34m(\u001b[0m\u001b[0md1\u001b[0m\u001b[0;34m[\u001b[0m\u001b[0;34m'name'\u001b[0m\u001b[0;34m]\u001b[0m\u001b[0;34m)\u001b[0m \u001b[0;31m# output will be alice\u001b[0m\u001b[0;34m\u001b[0m\u001b[0;34m\u001b[0m\u001b[0m\n\u001b[1;32m      6\u001b[0m \u001b[0;34m\u001b[0m\u001b[0m\n\u001b[0;32m----> 7\u001b[0;31m \u001b[0mprint\u001b[0m\u001b[0;34m(\u001b[0m\u001b[0md1\u001b[0m\u001b[0;34m[\u001b[0m\u001b[0;34m'lname'\u001b[0m\u001b[0;34m]\u001b[0m\u001b[0;34m)\u001b[0m \u001b[0;31m# throws error as the key 'lname' is not existing\u001b[0m\u001b[0;34m\u001b[0m\u001b[0;34m\u001b[0m\u001b[0m\n\u001b[0m",
      "\u001b[0;31mKeyError\u001b[0m: 'lname'"
     ]
    }
   ],
   "source": [
    "\"\"\"Examples for get\"\"\"\n",
    "\n",
    "d1 = {'name':'alice','age':7,'class':'first'}\n",
    "\n",
    "print(d1['name']) # output will be alice\n",
    "\n",
    "print(d1['lname']) # throws error as the key 'lname' is not existing"
   ]
  },
  {
   "cell_type": "code",
   "execution_count": 2,
   "id": "d5bfa7ea",
   "metadata": {},
   "outputs": [
    {
     "name": "stdout",
     "output_type": "stream",
     "text": [
      "None\n"
     ]
    }
   ],
   "source": [
    "print(d1.get('lname')) # returns None"
   ]
  },
  {
   "cell_type": "code",
   "execution_count": 3,
   "id": "256cb96f",
   "metadata": {},
   "outputs": [
    {
     "name": "stdout",
     "output_type": "stream",
     "text": [
      "7\n"
     ]
    }
   ],
   "source": [
    "print(d1.get('age'))"
   ]
  },
  {
   "cell_type": "code",
   "execution_count": 7,
   "id": "3392d08c",
   "metadata": {},
   "outputs": [
    {
     "name": "stdout",
     "output_type": "stream",
     "text": [
      "Name Not Found - alice\n"
     ]
    }
   ],
   "source": [
    "# assigning optional second parameter\n",
    "print(d1.get('lname',\"Name Not Found - \"+d1.get('name'))) # "
   ]
  },
  {
   "cell_type": "code",
   "execution_count": 8,
   "id": "2664b971",
   "metadata": {},
   "outputs": [
    {
     "name": "stdout",
     "output_type": "stream",
     "text": [
      "7\n"
     ]
    }
   ],
   "source": [
    "print(d1.get('age','Not Found'))"
   ]
  },
  {
   "cell_type": "code",
   "execution_count": 9,
   "id": "e9f9e8b0",
   "metadata": {},
   "outputs": [
    {
     "name": "stdout",
     "output_type": "stream",
     "text": [
      "{'name': 'alice', 'age': 7, 'class': 'first', 'rank': 'second'}\n"
     ]
    }
   ],
   "source": [
    "\"\"\"Example for setdefault\"\"\"\n",
    "\n",
    "d1 = {'name':'alice','age':7,'class':'first'}\n",
    "\n",
    "d1.setdefault('rank','second') # creates a key named 'rank' and sets the value as 'second'\n",
    "\n",
    "print(d1) "
   ]
  },
  {
   "cell_type": "code",
   "execution_count": 10,
   "id": "d7f13c04",
   "metadata": {},
   "outputs": [
    {
     "name": "stdout",
     "output_type": "stream",
     "text": [
      "{'name': 'alice', 'age': 7, 'class': 'first', 'rank': 'second'}\n"
     ]
    }
   ],
   "source": [
    "d1.setdefault('name','tom') # creates a key named 'rank' and sets the value as 'second'\n",
    "\n",
    "print(d1)"
   ]
  },
  {
   "cell_type": "code",
   "execution_count": 11,
   "id": "94ee2d74",
   "metadata": {},
   "outputs": [
    {
     "name": "stdout",
     "output_type": "stream",
     "text": [
      "{'name': 'alice', 'age': 7, 'class': 'first'}\n"
     ]
    }
   ],
   "source": [
    "\"\"\"Example for dict\"\"\"\n",
    "\n",
    "list1=[('name','alice'),('age',7),('class','first')]\n",
    "\n",
    "d1 = dict(list1)\n",
    "\n",
    "print(d1)"
   ]
  },
  {
   "cell_type": "code",
   "execution_count": 12,
   "id": "ab13f2a2",
   "metadata": {},
   "outputs": [
    {
     "name": "stdout",
     "output_type": "stream",
     "text": [
      "[('name', 'alice'), ('age', 7), ('class', 'first')]\n"
     ]
    }
   ],
   "source": [
    "\"\"\"using zip function to form list of tuples\"\"\"\n",
    "\n",
    "list2 = ['name','age','class']\n",
    "list3 = ['alice',7,'first']\n",
    "\n",
    "list4 = list(zip(list2,list3))\n",
    "\n",
    "print(list4)"
   ]
  },
  {
   "cell_type": "code",
   "execution_count": 13,
   "id": "f0bea68d",
   "metadata": {},
   "outputs": [
    {
     "name": "stdout",
     "output_type": "stream",
     "text": [
      "{'name': 'alice', 'age': 7, 'class': 'first'}\n"
     ]
    }
   ],
   "source": [
    "d3 = dict(zip(list2,list3))\n",
    "\n",
    "print(d3)"
   ]
  },
  {
   "cell_type": "code",
   "execution_count": null,
   "id": "751902bd",
   "metadata": {},
   "outputs": [],
   "source": [
    "# https://reqres.in/api/users?page=2"
   ]
  }
 ],
 "metadata": {
  "kernelspec": {
   "display_name": "Python 3 (ipykernel)",
   "language": "python",
   "name": "python3"
  },
  "language_info": {
   "codemirror_mode": {
    "name": "ipython",
    "version": 3
   },
   "file_extension": ".py",
   "mimetype": "text/x-python",
   "name": "python",
   "nbconvert_exporter": "python",
   "pygments_lexer": "ipython3",
   "version": "3.7.3"
  }
 },
 "nbformat": 4,
 "nbformat_minor": 5
}
