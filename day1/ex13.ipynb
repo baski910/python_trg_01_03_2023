{
 "cells": [
  {
   "cell_type": "code",
   "execution_count": 3,
   "id": "c4c87885",
   "metadata": {},
   "outputs": [
    {
     "name": "stdout",
     "output_type": "stream",
     "text": [
      "Enter a stringhello world some more string\n",
      "['hello', 'world', 'some', 'more', 'string']\n"
     ]
    }
   ],
   "source": [
    "# int, str, list, dict\n",
    "\n",
    "s1 = input(\"Enter a string\")\n",
    "words = s1.split()\n",
    "print(words)\n",
    "#print(s2)"
   ]
  },
  {
   "cell_type": "code",
   "execution_count": 7,
   "id": "62ec51ba",
   "metadata": {},
   "outputs": [
    {
     "name": "stdout",
     "output_type": "stream",
     "text": [
      "helloworldsomemorestring\n"
     ]
    }
   ],
   "source": [
    "s2 = \"\".join(words)\n",
    "print(s2)"
   ]
  },
  {
   "cell_type": "code",
   "execution_count": null,
   "id": "ea70a061",
   "metadata": {},
   "outputs": [],
   "source": []
  }
 ],
 "metadata": {
  "kernelspec": {
   "display_name": "Python 3 (ipykernel)",
   "language": "python",
   "name": "python3"
  },
  "language_info": {
   "codemirror_mode": {
    "name": "ipython",
    "version": 3
   },
   "file_extension": ".py",
   "mimetype": "text/x-python",
   "name": "python",
   "nbconvert_exporter": "python",
   "pygments_lexer": "ipython3",
   "version": "3.7.3"
  }
 },
 "nbformat": 4,
 "nbformat_minor": 5
}
