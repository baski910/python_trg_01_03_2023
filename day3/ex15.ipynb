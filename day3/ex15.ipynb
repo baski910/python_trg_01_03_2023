{
 "cells": [
  {
   "cell_type": "code",
   "execution_count": 1,
   "id": "aeb15e44",
   "metadata": {},
   "outputs": [
    {
     "name": "stdout",
     "output_type": "stream",
     "text": [
      "['/home/baskar/pythonexamples/chapter_wise_notes/03_03_2023', '/home/baskar/venv-python37/lib/python37.zip', '/home/baskar/venv-python37/lib/python3.7', '/home/baskar/venv-python37/lib/python3.7/lib-dynload', '/usr/lib/python3.7', '', '/home/baskar/venv-python37/lib/python3.7/site-packages', '/home/baskar/venv-python37/lib/python3.7/site-packages/IPython/extensions', '/home/baskar/.ipython', '/home/baskar/pythonexamples/chapter_wise_notes/01_03_2023']\n",
      "24\n",
      "5.0\n"
     ]
    }
   ],
   "source": [
    "import sys\n",
    "\n",
    "sys.path.append(\"/home/baskar/pythonexamples/chapter_wise_notes/01_03_2023\")\n",
    "\n",
    "print(sys.path)\n",
    "\n",
    "import hello\n",
    "\n",
    "print(hello.addnum(20,4))\n",
    "print(hello.divnum(20,4))"
   ]
  },
  {
   "cell_type": "code",
   "execution_count": null,
   "id": "31fb0647",
   "metadata": {},
   "outputs": [],
   "source": []
  }
 ],
 "metadata": {
  "kernelspec": {
   "display_name": "Python 3 (ipykernel)",
   "language": "python",
   "name": "python3"
  },
  "language_info": {
   "codemirror_mode": {
    "name": "ipython",
    "version": 3
   },
   "file_extension": ".py",
   "mimetype": "text/x-python",
   "name": "python",
   "nbconvert_exporter": "python",
   "pygments_lexer": "ipython3",
   "version": "3.7.3"
  }
 },
 "nbformat": 4,
 "nbformat_minor": 5
}
