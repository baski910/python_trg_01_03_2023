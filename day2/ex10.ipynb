{
 "cells": [
  {
   "cell_type": "code",
   "execution_count": 2,
   "id": "0ac7da30",
   "metadata": {},
   "outputs": [
    {
     "name": "stdout",
     "output_type": "stream",
     "text": [
      "hello\n"
     ]
    }
   ],
   "source": [
    "def echo(n):\n",
    "    print(n)\n",
    "    \n",
    "# function call without parameter leads to error.\n",
    "# the parameter is required and can not be omitted\n",
    "echo('hello')"
   ]
  },
  {
   "cell_type": "code",
   "execution_count": 3,
   "id": "d7251be6",
   "metadata": {},
   "outputs": [],
   "source": [
    "def display(name,age):\n",
    "    print(\"Name: {}\".format(name)) # From v 3.8 print(\"Name:{name}\")\n",
    "    print(\"Age: {}\".format(age))"
   ]
  },
  {
   "cell_type": "code",
   "execution_count": 4,
   "id": "65493b5d",
   "metadata": {},
   "outputs": [
    {
     "name": "stdout",
     "output_type": "stream",
     "text": [
      "Name: bob\n",
      "Age: 13\n"
     ]
    }
   ],
   "source": [
    "display('bob',13)"
   ]
  },
  {
   "cell_type": "code",
   "execution_count": 5,
   "id": "737930d6",
   "metadata": {},
   "outputs": [
    {
     "name": "stdout",
     "output_type": "stream",
     "text": [
      "Name: 13\n",
      "Age: bob\n"
     ]
    }
   ],
   "source": [
    "display(13,'bob')"
   ]
  },
  {
   "cell_type": "code",
   "execution_count": 6,
   "id": "399331ce",
   "metadata": {},
   "outputs": [
    {
     "name": "stdout",
     "output_type": "stream",
     "text": [
      "Name: bob\n",
      "Age: 13\n"
     ]
    }
   ],
   "source": [
    "display(age=13,name='bob')"
   ]
  },
  {
   "cell_type": "code",
   "execution_count": 10,
   "id": "fb9aa6ba",
   "metadata": {},
   "outputs": [
    {
     "ename": "SyntaxError",
     "evalue": "non-default argument follows default argument (4079783133.py, line 4)",
     "output_type": "error",
     "traceback": [
      "\u001b[0;36m  File \u001b[0;32m\"/tmp/ipykernel_6066/4079783133.py\"\u001b[0;36m, line \u001b[0;32m4\u001b[0m\n\u001b[0;31m    def calculateinterest(p,r=12,n): # default variable can not follow non-default\u001b[0m\n\u001b[0m                         ^\u001b[0m\n\u001b[0;31mSyntaxError\u001b[0m\u001b[0;31m:\u001b[0m non-default argument follows default argument\n"
     ]
    }
   ],
   "source": [
    "# in the below function parameter 'r' is assgined value in the function definition and is\n",
    "# called as default argument.\n",
    "def calculateinterest(p,n,r=12):\n",
    "#def calculateinterest(p,r=12,n): # default variable can not follow non-default\n",
    "    return p*n*r/100"
   ]
  },
  {
   "cell_type": "code",
   "execution_count": 8,
   "id": "f5180cab",
   "metadata": {},
   "outputs": [
    {
     "name": "stdout",
     "output_type": "stream",
     "text": [
      "360.0\n"
     ]
    }
   ],
   "source": [
    "# no need of including default argument in the function call\n",
    "total = calculateinterest(1000,3) # the value for 'r' is 12\n",
    "print(total)"
   ]
  },
  {
   "cell_type": "code",
   "execution_count": 9,
   "id": "c7095e60",
   "metadata": {},
   "outputs": [
    {
     "name": "stdout",
     "output_type": "stream",
     "text": [
      "240.0\n"
     ]
    }
   ],
   "source": [
    "# The value provided for default argument is considered in function call (or) default value is overwritten\n",
    "total = calculateinterest(1000,3,8) # the value for 'r' is 8\n",
    "print(total)"
   ]
  },
  {
   "cell_type": "code",
   "execution_count": 19,
   "id": "63de01c2",
   "metadata": {},
   "outputs": [],
   "source": [
    "# passing unknown number of parameters to a function (or) variable number of arguments\n",
    "# find the maximum out of the numbers passed. (we could even use 'max' to achieve the same).\n",
    "# this is an example for passing variable number of arguments\n",
    "def find_max(*args):\n",
    "    # args inside the function is treated as tuple\n",
    "    #print(args)\n",
    "    m = args[0]\n",
    "    \n",
    "    for v in args:\n",
    "        if m<v: m=v\n",
    "    return m"
   ]
  },
  {
   "cell_type": "code",
   "execution_count": 20,
   "id": "e679f90a",
   "metadata": {},
   "outputs": [
    {
     "name": "stdout",
     "output_type": "stream",
     "text": [
      "307\n"
     ]
    }
   ],
   "source": [
    "maxval = find_max(58,71,307,21,39,81,92)\n",
    "print(maxval)"
   ]
  },
  {
   "cell_type": "code",
   "execution_count": 22,
   "id": "387a4574",
   "metadata": {},
   "outputs": [
    {
     "name": "stdout",
     "output_type": "stream",
     "text": [
      "['ArithmeticError', 'AssertionError', 'AttributeError', 'BaseException', 'BlockingIOError', 'BrokenPipeError', 'BufferError', 'BytesWarning', 'ChildProcessError', 'ConnectionAbortedError', 'ConnectionError', 'ConnectionRefusedError', 'ConnectionResetError', 'DeprecationWarning', 'EOFError', 'Ellipsis', 'EnvironmentError', 'Exception', 'False', 'FileExistsError', 'FileNotFoundError', 'FloatingPointError', 'FutureWarning', 'GeneratorExit', 'IOError', 'ImportError', 'ImportWarning', 'IndentationError', 'IndexError', 'InterruptedError', 'IsADirectoryError', 'KeyError', 'KeyboardInterrupt', 'LookupError', 'MemoryError', 'ModuleNotFoundError', 'NameError', 'None', 'NotADirectoryError', 'NotImplemented', 'NotImplementedError', 'OSError', 'OverflowError', 'PendingDeprecationWarning', 'PermissionError', 'ProcessLookupError', 'RecursionError', 'ReferenceError', 'ResourceWarning', 'RuntimeError', 'RuntimeWarning', 'StopAsyncIteration', 'StopIteration', 'SyntaxError', 'SyntaxWarning', 'SystemError', 'SystemExit', 'TabError', 'TimeoutError', 'True', 'TypeError', 'UnboundLocalError', 'UnicodeDecodeError', 'UnicodeEncodeError', 'UnicodeError', 'UnicodeTranslateError', 'UnicodeWarning', 'UserWarning', 'ValueError', 'Warning', 'ZeroDivisionError', '__IPYTHON__', '__build_class__', '__debug__', '__doc__', '__import__', '__loader__', '__name__', '__package__', '__spec__', 'abs', 'all', 'any', 'ascii', 'bin', 'bool', 'breakpoint', 'bytearray', 'bytes', 'callable', 'chr', 'classmethod', 'compile', 'complex', 'copyright', 'credits', 'delattr', 'dict', 'dir', 'display', 'divmod', 'enumerate', 'eval', 'exec', 'execfile', 'filter', 'float', 'format', 'frozenset', 'get_ipython', 'getattr', 'globals', 'hasattr', 'hash', 'help', 'hex', 'id', 'input', 'int', 'isinstance', 'issubclass', 'iter', 'len', 'license', 'list', 'locals', 'map', 'max', 'memoryview', 'min', 'next', 'object', 'oct', 'open', 'ord', 'pow', 'print', 'property', 'range', 'repr', 'reversed', 'round', 'runfile', 'set', 'setattr', 'slice', 'sorted', 'staticmethod', 'str', 'sum', 'super', 'tuple', 'type', 'vars', 'zip']\n"
     ]
    }
   ],
   "source": [
    "import builtins\n",
    "\n",
    "print(dir(builtins))"
   ]
  },
  {
   "cell_type": "code",
   "execution_count": 23,
   "id": "6941ba4e",
   "metadata": {},
   "outputs": [
    {
     "name": "stdout",
     "output_type": "stream",
     "text": [
      "{'name': 'bob', 'age': 13, 'school': 'cps school'}\n"
     ]
    }
   ],
   "source": [
    "def showParams(**kwargs):\n",
    "    # inside the function kwargs is treated as dictionary\n",
    "    print(kwargs)\n",
    "\n",
    "showParams(name='bob',age=13,school='cps school')"
   ]
  },
  {
   "cell_type": "code",
   "execution_count": null,
   "id": "bae19461",
   "metadata": {},
   "outputs": [],
   "source": []
  }
 ],
 "metadata": {
  "kernelspec": {
   "display_name": "Python 3 (ipykernel)",
   "language": "python",
   "name": "python3"
  },
  "language_info": {
   "codemirror_mode": {
    "name": "ipython",
    "version": 3
   },
   "file_extension": ".py",
   "mimetype": "text/x-python",
   "name": "python",
   "nbconvert_exporter": "python",
   "pygments_lexer": "ipython3",
   "version": "3.7.3"
  }
 },
 "nbformat": 4,
 "nbformat_minor": 5
}
