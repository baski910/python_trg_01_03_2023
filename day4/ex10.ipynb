{
 "cells": [
  {
   "cell_type": "code",
   "execution_count": 1,
   "id": "e7c7abe3",
   "metadata": {},
   "outputs": [],
   "source": [
    "# read csv using pandas\n",
    "\n",
    "import pandas as pd\n",
    "\n",
    "df = pd.read_csv('uk-500.csv') "
   ]
  },
  {
   "cell_type": "code",
   "execution_count": 2,
   "id": "f95b95cf",
   "metadata": {},
   "outputs": [
    {
     "name": "stdout",
     "output_type": "stream",
     "text": [
      "Index(['id', 'first_name', 'last_name', 'company_name', 'address', 'city',\n",
      "       'county', 'postal', 'phone1', 'phone2', 'email', 'web', 'in', 'out'],\n",
      "      dtype='object')\n"
     ]
    }
   ],
   "source": [
    "print(df.columns)"
   ]
  },
  {
   "cell_type": "code",
   "execution_count": 3,
   "id": "2cafee44",
   "metadata": {},
   "outputs": [
    {
     "name": "stdout",
     "output_type": "stream",
     "text": [
      "    id first_name   last_name             company_name            address  \\\n",
      "0  1.0    Aleshia  Tomkiewicz  Alan D Rosenburg Cpa Pc       14 Taylor St   \n",
      "1  2.0       Evan   Zigomalas       Cap Gemini America        5 Binney St   \n",
      "2  3.0     France     Andrade      Elliott, John W Esq       8 Moor Place   \n",
      "3  4.0    Ulysses   Mcwalters           Mcmahan, Ben L      505 Exeter Rd   \n",
      "4  5.0     Tyisha      Veness           Champagne Room  5396 Forth Street   \n",
      "\n",
      "                             city           county    postal        phone1  \\\n",
      "0               St. Stephens Ward             Kent   CT2 7PP  01835-703597   \n",
      "1                      Abbey Ward  Buckinghamshire  HP11 2AX  01937-864715   \n",
      "2  East Southbourne and Tuckton W      Bournemouth   BH6 3BE  01347-368222   \n",
      "3              Hawerby cum Beesby     Lincolnshire  DN36 5RP  01912-771311   \n",
      "4      Greets Green and Lyng Ward    West Midlands   B70 9DT  01547-429341   \n",
      "\n",
      "         phone2                       email  \\\n",
      "0  01944-369967     atomkiewicz@hotmail.com   \n",
      "1  01714-737668    evan.zigomalas@gmail.com   \n",
      "2  01935-821636  france.andrade@hotmail.com   \n",
      "3  01302-601380         ulysses@hotmail.com   \n",
      "4  01290-367248   tyisha.veness@hotmail.com   \n",
      "\n",
      "                                    web    in  out  \n",
      "0  http://www.alandrosenburgcpapc.co.uk   9:3  NaN  \n",
      "1     http://www.capgeminiamerica.co.uk  9:13  NaN  \n",
      "2      http://www.elliottjohnwesq.co.uk  9:46  NaN  \n",
      "3          http://www.mcmahanbenl.co.uk   9:4  NaN  \n",
      "4        http://www.champagneroom.co.uk   8:1  NaN  \n"
     ]
    }
   ],
   "source": [
    "#print(df.head()) # returns 1st 5 rows\n",
    "print(df.head(15))\n"
   ]
  },
  {
   "cell_type": "code",
   "execution_count": 6,
   "id": "d1558e96",
   "metadata": {},
   "outputs": [
    {
     "name": "stdout",
     "output_type": "stream",
     "text": [
      "    S. No.           Employee Name    Signum Day 1 Day 2 Day 3  Day 4  Day 5\n",
      "0      1.0        Swati Khandelwal   EZKHASW     p     p     p    NaN    NaN\n",
      "1      2.0              Jaya Vohra   EVOHJAY     p     p     p    NaN    NaN\n",
      "2      3.0        Shalini Lavaniya   EALASHW   NaN   NaN   NaN    NaN    NaN\n",
      "3      4.0          Abhishek Kumar   EKURABK     p     p     p    NaN    NaN\n",
      "4      5.0             Arun Sharma   EDGHKKM     p     p     p    NaN    NaN\n",
      "5      6.0       Jhalak Maheshwari   EMAHJHA     p     p     p    NaN    NaN\n",
      "6      7.0            Mohammad Zia   EMADZIA     p     p     p    NaN    NaN\n",
      "7      8.0                Satender   ERRSVVX     p     p     p    NaN    NaN\n",
      "8      9.0         Kumar Saurabh B   ekoqrrs     p   NaN   NaN    NaN    NaN\n",
      "9     10.0                Asif . A   easixxx   NaN   NaN   NaN    NaN    NaN\n",
      "10    11.0           Amit Sharma E   ehiaams   NaN   NaN   NaN    NaN    NaN\n",
      "11    12.0  SANJEEV KUMAR BARANWAL   ESABARA     p     p     p    NaN    NaN\n",
      "15     NaN          Indresh Thakur   EIANDHT     p     p     p    NaN    NaN\n",
      "16     NaN         Harvinder Singh   EASINHR     p     p     p    NaN    NaN\n",
      "17     NaN         Subham Agrahari   EASURBG     p     p     p    NaN    NaN\n",
      "18     NaN      Gourav Kumar Guddu   EGUDGOU     p     p   NaN    NaN    NaN\n",
      "19     NaN             Lalita Rani   EXXXLAL     p     p     p    NaN    NaN\n",
      "20     NaN             Shrey Gupta   EUHSPGR     p     p     p    NaN    NaN\n",
      "21     NaN          Nishant Ranjan   EINRASN     p     p     p    NaN    NaN\n"
     ]
    }
   ],
   "source": [
    "import pandas as pd\n",
    "df1 = pd.read_excel('test1.xlsx',sheet_name='Sheet1')\n",
    "\n",
    "#print(df1)\n",
    "\n",
    "print(df1.loc[~df1['Employee Name'].isnull()])"
   ]
  },
  {
   "cell_type": "code",
   "execution_count": 7,
   "id": "bc949997",
   "metadata": {},
   "outputs": [],
   "source": [
    "df = pd.read_csv('uk-500.csv') \n",
    "\n",
    "df.to_excel('excel_from_csv.xlsx',index=False)"
   ]
  },
  {
   "cell_type": "code",
   "execution_count": 8,
   "id": "12c4213f",
   "metadata": {},
   "outputs": [
    {
     "name": "stdout",
     "output_type": "stream",
     "text": [
      "       id   first_name  last_name                  company_name  \\\n",
      "1     2.0         Evan  Zigomalas            Cap Gemini America   \n",
      "11   12.0  Charlesetta        Erm              Cain, John M Esq   \n",
      "12   13.0     Corrinne      Jaret             Sound Vision Corp   \n",
      "29   30.0        Karma     Quarto               J C S Machinery   \n",
      "32   33.0        Milly    Savidge     Bridgeway Plan For Health   \n",
      "..    ...          ...        ...                           ...   \n",
      "472   NaN          Mel   Picciuto                Avante Limited   \n",
      "480   NaN      Tijuana   Machalek        Schwartz, Thomas E Esq   \n",
      "483   NaN      Derrick    Dolloff       Proto Tek Manufacturing   \n",
      "494   NaN       Alesia      Katie  Nelsons Trmt & Pest Cntrl Co   \n",
      "498   NaN    Celestina      Keeny      Bfg Federal Credit Union   \n",
      "\n",
      "                    address                  city                  county  \\\n",
      "1               5 Binney St            Abbey Ward         Buckinghamshire   \n",
      "11              5 Hygeia St  Loundsley Green Ward              Derbyshire   \n",
      "12           2150 Morley St              Dee Ward   Dumfries and Galloway   \n",
      "29             1 Birkett St        Shard End Ward           West Midlands   \n",
      "32    129 Alexander Pope St          Franche Ward  Hereford and Worcester   \n",
      "..                      ...                   ...                     ...   \n",
      "472          8598 Rumney Rd          Hylands Ward                   Essex   \n",
      "480  1149 Highfield Rd #996    Fareham South Ward               Hampshire   \n",
      "483         236 Blantyre Rd          Everton Ward              Merseyside   \n",
      "494         4 Covent Garden        Farnworth Ward      Greater Manchester   \n",
      "498             9 Milton St      Consett North ED           County Durham   \n",
      "\n",
      "       postal        phone1        phone2                       email  \\\n",
      "1    HP11 2AX  01937-864715  01714-737668    evan.zigomalas@gmail.com   \n",
      "11    S40 4LY  01276-816806  01517-624517   charlesetta_erm@gmail.com   \n",
      "12    DG8 7DE  01625-932209  01642-322954    corrinne_jaret@gmail.com   \n",
      "29    B33 0NH  01857-864722  01307-667811           kquarto@gmail.com   \n",
      "32   DY11 9BW  01702-725589  01421-132652             milly@gmail.com   \n",
      "..        ...           ...           ...                         ...   \n",
      "472  RM11 1QL  01885-270480  01268-443299      mel.picciuto@gmail.com   \n",
      "480  PO14 9JJ  01242-532395  01336-686264  tijuana.machalek@gmail.com   \n",
      "483    L6 2EN  01982-734773  01619-554437   derrick_dolloff@gmail.com   \n",
      "494   BL4 7AF  01333-436799  01240-614527      alesia_katie@gmail.com   \n",
      "498   DH8 5LP  01877-379681  01600-463475   celestina_keeny@gmail.com   \n",
      "\n",
      "                                         web    in  out  \n",
      "1          http://www.capgeminiamerica.co.uk  9:13  NaN  \n",
      "11             http://www.cainjohnmesq.co.uk  8:50  NaN  \n",
      "12          http://www.soundvisioncorp.co.uk  9:55  NaN  \n",
      "29             http://www.jcsmachinery.co.uk  8:49  NaN  \n",
      "32   http://www.bridgewayplanforhealth.co.uk  9:24  NaN  \n",
      "..                                       ...   ...  ...  \n",
      "472           http://www.avantelimited.co.uk  8:39  NaN  \n",
      "480      http://www.schwartzthomaseesq.co.uk  8:59  NaN  \n",
      "483   http://www.prototekmanufacturing.co.uk   8:9  NaN  \n",
      "494  http://www.nelsonstrmtpestcntrlco.co.uk   9:4  NaN  \n",
      "498   http://www.bfgfederalcreditunion.co.uk  9:21  NaN  \n",
      "\n",
      "[130 rows x 14 columns]\n"
     ]
    }
   ],
   "source": [
    "# filtering on data fram using iloc and loc\n",
    "\n",
    "print(df.loc[df['email'].str.endswith('gmail.com')]) # filter email column ending with 'gmail.com'"
   ]
  },
  {
   "cell_type": "code",
   "execution_count": 9,
   "id": "c5c7f4e1",
   "metadata": {},
   "outputs": [
    {
     "name": "stdout",
     "output_type": "stream",
     "text": [
      "      first_name  last_name                       email\n",
      "1           Evan  Zigomalas    evan.zigomalas@gmail.com\n",
      "11   Charlesetta        Erm   charlesetta_erm@gmail.com\n",
      "12      Corrinne      Jaret    corrinne_jaret@gmail.com\n",
      "29         Karma     Quarto           kquarto@gmail.com\n",
      "32         Milly    Savidge             milly@gmail.com\n",
      "..           ...        ...                         ...\n",
      "472          Mel   Picciuto      mel.picciuto@gmail.com\n",
      "480      Tijuana   Machalek  tijuana.machalek@gmail.com\n",
      "483      Derrick    Dolloff   derrick_dolloff@gmail.com\n",
      "494       Alesia      Katie      alesia_katie@gmail.com\n",
      "498    Celestina      Keeny   celestina_keeny@gmail.com\n",
      "\n",
      "[130 rows x 3 columns]\n"
     ]
    }
   ],
   "source": [
    "print(df.loc[df['email'].str.endswith('gmail.com'),['first_name','last_name','email']])"
   ]
  },
  {
   "cell_type": "code",
   "execution_count": null,
   "id": "27fea9bc",
   "metadata": {},
   "outputs": [],
   "source": []
  }
 ],
 "metadata": {
  "kernelspec": {
   "display_name": "Python 3 (ipykernel)",
   "language": "python",
   "name": "python3"
  },
  "language_info": {
   "codemirror_mode": {
    "name": "ipython",
    "version": 3
   },
   "file_extension": ".py",
   "mimetype": "text/x-python",
   "name": "python",
   "nbconvert_exporter": "python",
   "pygments_lexer": "ipython3",
   "version": "3.7.3"
  }
 },
 "nbformat": 4,
 "nbformat_minor": 5
}
