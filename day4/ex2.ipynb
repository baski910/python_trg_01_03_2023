{
 "cells": [
  {
   "cell_type": "code",
   "execution_count": 1,
   "id": "40a81201",
   "metadata": {},
   "outputs": [
    {
     "name": "stdout",
     "output_type": "stream",
     "text": [
      "Total number of accounts:1\n",
      "Total number of accounts:2\n",
      "current balance of 12345 is 3000\n",
      "current balance of 56723 is 700\n",
      "3000\n",
      "700\n",
      "BankAccount destroyed\n",
      "BankAccount destroyed\n"
     ]
    }
   ],
   "source": [
    "# destructor\n",
    "class BankAccount:\n",
    "    \"\"\"this is an example class\"\"\" # docstring\n",
    "    #account_number = 0\n",
    "    num_of_accounts = 0 # class attribute\n",
    "    def __init__(self,number,name,date_of_opening,balance): # constructor\n",
    "        self.account_number = number # instance attributes\n",
    "        self.account_name = name\n",
    "        self.date_of_opening = date_of_opening\n",
    "        self.curbalance = balance\n",
    "        BankAccount.num_of_accounts += 1\n",
    "    \n",
    "    def deposit_withdraw(self,amount,transtype): # instance methods\n",
    "        if transtype==\"deposit\":\n",
    "            self.curbalance += amount\n",
    "        elif transtype==\"withdraw\":\n",
    "            self.curbalance -= amount\n",
    "        print(\"current balance of {} is {}\".format(self.account_number,self.curbalance))\n",
    "        \n",
    "    def totalAccounts(self):\n",
    "        print(\"Total number of accounts:{}\".format(BankAccount.num_of_accounts))\n",
    "    #def withdraw(self,amount):\n",
    "    #    self.curbalance -= amount\n",
    "    \n",
    "    def __del__(self): # destructor\n",
    "        print(\"{} destroyed\".format(self.__class__.__name__))\n",
    "        \n",
    "obj1 = BankAccount(12345,'bob','2023-01-20',1000) # obj1 = BankAccount(obj1,12345,'bob','2023-01-20',1000)\n",
    "obj1.totalAccounts()\n",
    "obj2 = BankAccount(56723,'tom','2023-01-20',1200)\n",
    "obj2.totalAccounts()\n",
    "obj1.deposit_withdraw(2000,\"deposit\")\n",
    "obj2.deposit_withdraw(500,\"withdraw\")\n",
    "\n",
    "print(obj1.curbalance)\n",
    "print(obj2.curbalance)\n",
    "\n",
    "del obj1,obj2"
   ]
  },
  {
   "cell_type": "code",
   "execution_count": null,
   "id": "90fd2300",
   "metadata": {},
   "outputs": [],
   "source": []
  }
 ],
 "metadata": {
  "kernelspec": {
   "display_name": "Python 3 (ipykernel)",
   "language": "python",
   "name": "python3"
  },
  "language_info": {
   "codemirror_mode": {
    "name": "ipython",
    "version": 3
   },
   "file_extension": ".py",
   "mimetype": "text/x-python",
   "name": "python",
   "nbconvert_exporter": "python",
   "pygments_lexer": "ipython3",
   "version": "3.7.3"
  }
 },
 "nbformat": 4,
 "nbformat_minor": 5
}
