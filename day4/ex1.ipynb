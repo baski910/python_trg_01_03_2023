{
 "cells": [
  {
   "cell_type": "code",
   "execution_count": null,
   "id": "57950b49",
   "metadata": {},
   "outputs": [],
   "source": [
    "class BankAccount:\n",
    "    \"\"\"this is an example class\"\"\" # docstring\n",
    "    def __init__(self,number,name,date_of_opening,balance): # constructor\n",
    "        self.account_number = number # instance attributes\n",
    "        self.account_name = name\n",
    "        self.date_of_opening = date_of_opening\n",
    "        self.curbalance = balance\n",
    "    \n",
    "    def deposit_withdraw(self,amount,transtype): # instance methods\n",
    "        if transtype==\"deposit\":\n",
    "            self.curbalance += amount\n",
    "        elif transtype==\"withdraw\":\n",
    "            self.curbalance -= amount\n",
    "        \n",
    "    #def withdraw(self,amount):\n",
    "    #    self.curbalance -= amount\n",
    "        \n",
    "obj1 = BankAccount(12345,'bob','2023-01-20',1000) # obj1 = BankAccount(obj1,12345,'bob','2023-01-20',1000)\n",
    "obj2 = BankAccount(56723,'tom','2023-01-20',1200)\n",
    "\n",
    "obj1.deposit_withdraw(2000,\"deposit\")\n",
    "obj2.deposit_withdraw(500,\"withdraw\")\n",
    "\n",
    "print(obj1.curbalance)\n",
    "print(obj2.curbalance)"
   ]
  }
 ],
 "metadata": {
  "kernelspec": {
   "display_name": "Python 3 (ipykernel)",
   "language": "python",
   "name": "python3"
  },
  "language_info": {
   "codemirror_mode": {
    "name": "ipython",
    "version": 3
   },
   "file_extension": ".py",
   "mimetype": "text/x-python",
   "name": "python",
   "nbconvert_exporter": "python",
   "pygments_lexer": "ipython3",
   "version": "3.7.3"
  }
 },
 "nbformat": 4,
 "nbformat_minor": 5
}
