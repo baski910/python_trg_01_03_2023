{
 "cells": [
  {
   "cell_type": "code",
   "execution_count": 1,
   "id": "6fabfd4a",
   "metadata": {},
   "outputs": [
    {
     "name": "stdout",
     "output_type": "stream",
     "text": [
      "Vim f\n",
      "5\n",
      "10\n",
      "bian\n",
      "\n"
     ]
    }
   ],
   "source": [
    "fh = open('readme.txt','r') \n",
    "\n",
    "print(fh.read(5)) # returns 1st 5 bytes\n",
    "\n",
    "print(fh.tell()) # returns 5\n",
    "\n",
    "fh.seek(10,0) # resets cursor to 10th byte from beginning of the file\n",
    "\n",
    "#fh.seek(5,1) # resets cursor to 10th byte from current cursor position\n",
    "\n",
    "print(fh.tell()) # returns 10\n",
    "\n",
    "print(fh.read(5)) # returns 5bytes from 10th byte\n",
    "\n",
    "fh.close()"
   ]
  },
  {
   "cell_type": "code",
   "execution_count": null,
   "id": "1a6408f6",
   "metadata": {},
   "outputs": [],
   "source": []
  }
 ],
 "metadata": {
  "kernelspec": {
   "display_name": "Python 3 (ipykernel)",
   "language": "python",
   "name": "python3"
  },
  "language_info": {
   "codemirror_mode": {
    "name": "ipython",
    "version": 3
   },
   "file_extension": ".py",
   "mimetype": "text/x-python",
   "name": "python",
   "nbconvert_exporter": "python",
   "pygments_lexer": "ipython3",
   "version": "3.7.3"
  }
 },
 "nbformat": 4,
 "nbformat_minor": 5
}
