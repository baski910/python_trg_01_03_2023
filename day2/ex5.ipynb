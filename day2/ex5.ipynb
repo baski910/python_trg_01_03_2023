{
 "cells": [
  {
   "cell_type": "code",
   "execution_count": 1,
   "id": "6c9d53b6",
   "metadata": {},
   "outputs": [],
   "source": [
    "s1 = \"name,mark,subject\\ntom,78,math\\npat,81,science\\nbob,73,english\"\n",
    "\n",
    "# d1 = {\n",
    "#   's1': {'name':'tom','mark','78','subject':'math'},\n",
    "#   's2': {'name':'pat','mark','81','subject':'science'},\n",
    "#   's3': {'name':'bob','mark','73','subject':'english'},\n",
    "# }"
   ]
  },
  {
   "cell_type": "code",
   "execution_count": 2,
   "id": "0ce5839e",
   "metadata": {},
   "outputs": [],
   "source": [
    "d1 = {} # define an empty dictionary"
   ]
  },
  {
   "cell_type": "code",
   "execution_count": 3,
   "id": "b2c501b9",
   "metadata": {},
   "outputs": [
    {
     "name": "stdout",
     "output_type": "stream",
     "text": [
      "['name,mark,subject', 'tom,78,math', 'pat,81,science', 'bob,73,english']\n"
     ]
    }
   ],
   "source": [
    "data = s1.split(\"\\n\")\n",
    "\n",
    "print(data)"
   ]
  },
  {
   "cell_type": "code",
   "execution_count": 4,
   "id": "e0aebf83",
   "metadata": {},
   "outputs": [
    {
     "name": "stdout",
     "output_type": "stream",
     "text": [
      "name,mark,subject\n"
     ]
    }
   ],
   "source": [
    "header = data.pop(0)\n",
    "\n",
    "print(header)"
   ]
  },
  {
   "cell_type": "code",
   "execution_count": 5,
   "id": "6a901c12",
   "metadata": {},
   "outputs": [
    {
     "name": "stdout",
     "output_type": "stream",
     "text": [
      "['name', 'mark', 'subject']\n"
     ]
    }
   ],
   "source": [
    "header = header.split(',')\n",
    "print(header)"
   ]
  },
  {
   "cell_type": "code",
   "execution_count": 11,
   "id": "b2286c1d",
   "metadata": {},
   "outputs": [
    {
     "name": "stdout",
     "output_type": "stream",
     "text": [
      "s1 {'name': 'tom', 'mark': '78', 'subject': 'math'}\n",
      "s2 {'name': 'pat', 'mark': '81', 'subject': 'science'}\n",
      "s3 {'name': 'bob', 'mark': '73', 'subject': 'english'}\n"
     ]
    }
   ],
   "source": [
    "for num,v in enumerate(data,1):\n",
    "    key = \"s{}\".format(num)\n",
    "    student = v.split(',')\n",
    "    d2 = dict(zip(header,student))\n",
    "    d1.setdefault(key,d2)\n",
    "    print(key,d2)"
   ]
  },
  {
   "cell_type": "code",
   "execution_count": 12,
   "id": "7aac9907",
   "metadata": {},
   "outputs": [
    {
     "name": "stdout",
     "output_type": "stream",
     "text": [
      "{'s1': {'name': 'tom', 'mark': '78', 'subject': 'math'}, 's2': {'name': 'pat', 'mark': '81', 'subject': 'science'}, 's3': {'name': 'bob', 'mark': '73', 'subject': 'english'}}\n"
     ]
    }
   ],
   "source": [
    "print(d1)"
   ]
  },
  {
   "cell_type": "code",
   "execution_count": null,
   "id": "e106a609",
   "metadata": {},
   "outputs": [],
   "source": []
  }
 ],
 "metadata": {
  "kernelspec": {
   "display_name": "Python 3 (ipykernel)",
   "language": "python",
   "name": "python3"
  },
  "language_info": {
   "codemirror_mode": {
    "name": "ipython",
    "version": 3
   },
   "file_extension": ".py",
   "mimetype": "text/x-python",
   "name": "python",
   "nbconvert_exporter": "python",
   "pygments_lexer": "ipython3",
   "version": "3.7.3"
  }
 },
 "nbformat": 4,
 "nbformat_minor": 5
}
