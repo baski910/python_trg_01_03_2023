{
 "cells": [
  {
   "cell_type": "code",
   "execution_count": 5,
   "id": "95c0e429",
   "metadata": {},
   "outputs": [
    {
     "name": "stdout",
     "output_type": "stream",
     "text": [
      "pi=3.141590\n"
     ]
    }
   ],
   "source": [
    "\n",
    "pi = 3.14159\n",
    "\n",
    "print(\"pi=%f\" %pi) "
   ]
  },
  {
   "cell_type": "code",
   "execution_count": 4,
   "id": "c57f5f7e",
   "metadata": {},
   "outputs": [
    {
     "name": "stdout",
     "output_type": "stream",
     "text": [
      "pi=3.14\n"
     ]
    }
   ],
   "source": [
    "\n",
    "pi = 3.14159\n",
    "\n",
    "print(\"pi=%.2f\" %pi) "
   ]
  },
  {
   "cell_type": "code",
   "execution_count": 6,
   "id": "660c722c",
   "metadata": {},
   "outputs": [
    {
     "name": "stdout",
     "output_type": "stream",
     "text": [
      "bob has scored 80 marks in maths\n"
     ]
    }
   ],
   "source": [
    "# to produce a output something like 'bob has scored 80 marks in maths', \n",
    "# using variables name,mark and subject with '%' opertor we do as given below\n",
    "\n",
    "name='bob'\n",
    "mark=80\n",
    "subject='maths'\n",
    "\n",
    "print(\"%s has scored %d marks in %s\" %(name,mark,subject))"
   ]
  },
  {
   "cell_type": "code",
   "execution_count": 7,
   "id": "9b397ea7",
   "metadata": {},
   "outputs": [
    {
     "name": "stdout",
     "output_type": "stream",
     "text": [
      "bob has scored 80 marks in maths\n"
     ]
    }
   ],
   "source": [
    "# Even with the information(data) in the form of a dictionary, the same output could be produced\n",
    "\n",
    "d1 = {'name':'bob','mark':80,'subject':'maths'}\n",
    "\n",
    "print(\"%(name)s has scored %(mark)d marks in %(subject)s\" %d1)"
   ]
  },
  {
   "cell_type": "code",
   "execution_count": 11,
   "id": "533d3aee",
   "metadata": {},
   "outputs": [
    {
     "name": "stdout",
     "output_type": "stream",
     "text": [
      "s1_2\n"
     ]
    }
   ],
   "source": [
    "print(\"s{}_{}\".format(1,2))"
   ]
  },
  {
   "cell_type": "code",
   "execution_count": 1,
   "id": "9d1d92b1",
   "metadata": {},
   "outputs": [
    {
     "name": "stdout",
     "output_type": "stream",
     "text": [
      "We have 60 students in Computer Science\n"
     ]
    }
   ],
   "source": [
    "# in the below statement the pair of curly braces are substituted with the parameters of \n",
    "# format function is same order how they were passed\n",
    "print(\"We have {} students in {}\".format(60, \"Computer Science\")) "
   ]
  },
  {
   "cell_type": "code",
   "execution_count": 3,
   "id": "43ae7f03",
   "metadata": {},
   "outputs": [
    {
     "name": "stdout",
     "output_type": "stream",
     "text": [
      "We have 60 students in Computer Science.\n"
     ]
    }
   ],
   "source": [
    "# if the values passed in different order to the format function, index can be used to substitute appropriately\n",
    "print(\"We have {1} students in {0}.\".format(\"Computer Science\",60))"
   ]
  },
  {
   "cell_type": "code",
   "execution_count": 4,
   "id": "f88eb33f",
   "metadata": {},
   "outputs": [
    {
     "name": "stdout",
     "output_type": "stream",
     "text": [
      "We have 60 students in Computer Science.\n"
     ]
    }
   ],
   "source": [
    "# if the values passed in different order to the format function, index can be used to substitute appropriately\n",
    "print(\"We have {numbers} students in {dept}.\".format(dept=\"Computer Science\",numbers=60))"
   ]
  },
  {
   "cell_type": "code",
   "execution_count": 6,
   "id": "f337b1a4",
   "metadata": {},
   "outputs": [
    {
     "name": "stdout",
     "output_type": "stream",
     "text": [
      "We have 60 students in Computer Science.\n"
     ]
    }
   ],
   "source": [
    "# if the values passed in different order to the format function, index can be used to substitute appropriately\n",
    "department=\"Computer Science\"\n",
    "num_of_students = 60\n",
    "print(\"We have {1} students in {0}.\".format(department,num_of_students))"
   ]
  },
  {
   "cell_type": "code",
   "execution_count": 7,
   "id": "617a2c59",
   "metadata": {},
   "outputs": [
    {
     "name": "stdout",
     "output_type": "stream",
     "text": [
      "We have 60 students in Computer Science.\n"
     ]
    }
   ],
   "source": [
    "d1= {'department':'Computer Science','num_of_students':60}\n",
    "\n",
    "print(\"We have {num_of_students} students in {department}.\".format(**d1)) # output will be the same as above statement\n",
    "                                                     # ** - refers unknown number of key and value pairs"
   ]
  },
  {
   "cell_type": "code",
   "execution_count": 10,
   "id": "5e20716f",
   "metadata": {},
   "outputs": [
    {
     "name": "stdout",
     "output_type": "stream",
     "text": [
      "We have 60 students in Computer Science\n"
     ]
    }
   ],
   "source": [
    "department=\"Computer Science\"\n",
    "num_of_students = 60\n",
    "s1 = f\"We have {num_of_students} students in {department}\"\n",
    "\n",
    "print(s1)"
   ]
  },
  {
   "cell_type": "code",
   "execution_count": null,
   "id": "dc4821cf",
   "metadata": {},
   "outputs": [],
   "source": []
  }
 ],
 "metadata": {
  "kernelspec": {
   "display_name": "Python 3 (ipykernel)",
   "language": "python",
   "name": "python3"
  },
  "language_info": {
   "codemirror_mode": {
    "name": "ipython",
    "version": 3
   },
   "file_extension": ".py",
   "mimetype": "text/x-python",
   "name": "python",
   "nbconvert_exporter": "python",
   "pygments_lexer": "ipython3",
   "version": "3.7.3"
  }
 },
 "nbformat": 4,
 "nbformat_minor": 5
}
