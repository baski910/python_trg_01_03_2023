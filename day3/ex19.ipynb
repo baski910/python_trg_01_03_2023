{
 "cells": [
  {
   "cell_type": "code",
   "execution_count": 1,
   "id": "43177e96",
   "metadata": {},
   "outputs": [
    {
     "name": "stdout",
     "output_type": "stream",
     "text": [
      "3000\n",
      "700\n"
     ]
    }
   ],
   "source": [
    "class BankAccount:\n",
    "    def __init__(self,number,balance):\n",
    "        self.account_number = number\n",
    "        self.curbalance = balance\n",
    "    \n",
    "    def deposit(self,amount):\n",
    "        self.curbalance += amount\n",
    "        \n",
    "    def withdraw(self,amount):\n",
    "        self.curbalance -= amount\n",
    "        \n",
    "obj1 = BankAccount(12345,1000)\n",
    "obj2 = BankAccount(56723,1200)\n",
    "\n",
    "obj1.deposit(2000)\n",
    "obj2.withdraw(500)\n",
    "\n",
    "print(obj1.curbalance)\n",
    "print(obj2.curbalance)"
   ]
  },
  {
   "cell_type": "code",
   "execution_count": null,
   "id": "8dda5bbf",
   "metadata": {},
   "outputs": [],
   "source": []
  }
 ],
 "metadata": {
  "kernelspec": {
   "display_name": "Python 3 (ipykernel)",
   "language": "python",
   "name": "python3"
  },
  "language_info": {
   "codemirror_mode": {
    "name": "ipython",
    "version": 3
   },
   "file_extension": ".py",
   "mimetype": "text/x-python",
   "name": "python",
   "nbconvert_exporter": "python",
   "pygments_lexer": "ipython3",
   "version": "3.7.3"
  }
 },
 "nbformat": 4,
 "nbformat_minor": 5
}
