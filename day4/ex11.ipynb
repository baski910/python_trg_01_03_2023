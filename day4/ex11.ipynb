{
 "cells": [
  {
   "cell_type": "code",
   "execution_count": 2,
   "id": "07efc1f6",
   "metadata": {},
   "outputs": [
    {
     "name": "stdout",
     "output_type": "stream",
     "text": [
      "  name  age department\n",
      "0  bob   21        CSE\n",
      "1  tom   20        ECE\n",
      "2  pat   21        EEE\n",
      "3  sam   20       MECH\n",
      "4  joe   21         IT\n",
      "  department departmentname\n",
      "0        CSE       Computer\n",
      "1        ECE    Electronics\n",
      "2        EEE     Electrical\n",
      "3       MECH     Mechanical\n",
      "4      CIVIL          Civil\n"
     ]
    }
   ],
   "source": [
    "# merge dataframes using common column\n",
    "\n",
    "import pandas as pd\n",
    "\n",
    "df1 = pd.read_excel('names.xlsx',sheet_name='Sheet1')\n",
    "\n",
    "print(df1)\n",
    "\n",
    "df2 = pd.read_excel('names.xlsx',sheet_name='Sheet2')\n",
    "\n",
    "print(df2)"
   ]
  },
  {
   "cell_type": "code",
   "execution_count": 3,
   "id": "b3b47df1",
   "metadata": {},
   "outputs": [
    {
     "name": "stdout",
     "output_type": "stream",
     "text": [
      "  name  age department departmentname\n",
      "0  bob   21        CSE       Computer\n",
      "1  tom   20        ECE    Electronics\n",
      "2  pat   21        EEE     Electrical\n",
      "3  sam   20       MECH     Mechanical\n"
     ]
    }
   ],
   "source": [
    "df3 = pd.merge(df1,df2,on='department')\n",
    "\n",
    "print(df3)"
   ]
  },
  {
   "cell_type": "code",
   "execution_count": 4,
   "id": "0bea3894",
   "metadata": {},
   "outputs": [
    {
     "name": "stdout",
     "output_type": "stream",
     "text": [
      "  name  age department departmentname\n",
      "0  bob   21        CSE       Computer\n",
      "1  tom   20        ECE    Electronics\n",
      "2  pat   21        EEE     Electrical\n",
      "3  sam   20       MECH     Mechanical\n",
      "4  joe   21         IT            NaN\n"
     ]
    }
   ],
   "source": [
    "df3 = pd.merge(df1,df2,on='department',how='left')\n",
    "\n",
    "print(df3)"
   ]
  },
  {
   "cell_type": "code",
   "execution_count": 5,
   "id": "65684a0d",
   "metadata": {},
   "outputs": [
    {
     "name": "stdout",
     "output_type": "stream",
     "text": [
      "  name   age department departmentname\n",
      "0  bob  21.0        CSE       Computer\n",
      "1  tom  20.0        ECE    Electronics\n",
      "2  pat  21.0        EEE     Electrical\n",
      "3  sam  20.0       MECH     Mechanical\n",
      "4  NaN   NaN      CIVIL          Civil\n"
     ]
    }
   ],
   "source": [
    "df3 = pd.merge(df1,df2,on='department',how='right')\n",
    "\n",
    "print(df3)"
   ]
  },
  {
   "cell_type": "code",
   "execution_count": 6,
   "id": "0c2e90ee",
   "metadata": {},
   "outputs": [
    {
     "name": "stdout",
     "output_type": "stream",
     "text": [
      "  name   age department departmentname\n",
      "0  bob  21.0        CSE       Computer\n",
      "1  tom  20.0        ECE    Electronics\n",
      "2  pat  21.0        EEE     Electrical\n",
      "3  sam  20.0       MECH     Mechanical\n",
      "4  joe  21.0         IT            NaN\n",
      "5  NaN   NaN      CIVIL          Civil\n"
     ]
    }
   ],
   "source": [
    "df3 = pd.merge(df1,df2,on='department',how='outer')\n",
    "\n",
    "print(df3)"
   ]
  },
  {
   "cell_type": "code",
   "execution_count": null,
   "id": "f9787d02",
   "metadata": {},
   "outputs": [],
   "source": []
  }
 ],
 "metadata": {
  "kernelspec": {
   "display_name": "Python 3 (ipykernel)",
   "language": "python",
   "name": "python3"
  },
  "language_info": {
   "codemirror_mode": {
    "name": "ipython",
    "version": 3
   },
   "file_extension": ".py",
   "mimetype": "text/x-python",
   "name": "python",
   "nbconvert_exporter": "python",
   "pygments_lexer": "ipython3",
   "version": "3.7.3"
  }
 },
 "nbformat": 4,
 "nbformat_minor": 5
}
