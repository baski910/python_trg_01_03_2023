{
 "cells": [
  {
   "cell_type": "code",
   "execution_count": 1,
   "id": "52b575db",
   "metadata": {},
   "outputs": [],
   "source": [
    "# Exception handling\n",
    "# try\n",
    "#   TODO\n",
    "# except ErrorClass:\n",
    "#   TODO\n",
    "# else\n",
    "#   TODO\n",
    "# finally\n",
    "#   TODO"
   ]
  },
  {
   "cell_type": "code",
   "execution_count": 3,
   "id": "a3f37e96",
   "metadata": {},
   "outputs": [
    {
     "name": "stdout",
     "output_type": "stream",
     "text": [
      "Enter a numberhello\n",
      "some error\n",
      "script continues here ...\n"
     ]
    }
   ],
   "source": [
    "try:\n",
    "    num = int(input(\"Enter a number\"))\n",
    "    print(num)\n",
    "except:\n",
    "    print(\"some error\")\n",
    "\n",
    "print(\"script continues here ...\")"
   ]
  },
  {
   "cell_type": "code",
   "execution_count": 5,
   "id": "3b226ba3",
   "metadata": {},
   "outputs": [
    {
     "name": "stdout",
     "output_type": "stream",
     "text": [
      "Enter a numberhello\n",
      "some error (<class 'ValueError'>, ValueError(\"invalid literal for int() with base 10: 'hello'\"), <traceback object at 0x7f27e44cbe08>)\n",
      "script continues here ...\n"
     ]
    }
   ],
   "source": [
    "import sys\n",
    "try:\n",
    "    num = int(input(\"Enter a number\"))\n",
    "    print(num)\n",
    "except ValueError:\n",
    "    print(\"some error\",sys.exc_info())\n",
    "\n",
    "print(\"script continues here ...\")"
   ]
  },
  {
   "cell_type": "code",
   "execution_count": null,
   "id": "9115b425",
   "metadata": {},
   "outputs": [],
   "source": [
    "import sys\n",
    "try:\n",
    "    f = open('myfile.txt','r')\n",
    "    s = f.readline()\n",
    "    i = int(s.strip())\n",
    "except IOError as e:\n",
    "    print(\"I/O error({0}): {1}\".format(e.errno, e.strerror))\n",
    "except ValueError:\n",
    "    print(\"Could not convert data to an integer.\") \n",
    "except:\n",
    "    print(\"Unexpected error:\", sys.exc_info()[0]) "
   ]
  },
  {
   "cell_type": "code",
   "execution_count": 8,
   "id": "d2290528",
   "metadata": {},
   "outputs": [
    {
     "name": "stdout",
     "output_type": "stream",
     "text": [
      "139680123193832\n"
     ]
    }
   ],
   "source": [
    "num = int(\"0x7f09d02009e8\",16)\n",
    "print(num)"
   ]
  },
  {
   "cell_type": "code",
   "execution_count": null,
   "id": "00eef96a",
   "metadata": {},
   "outputs": [],
   "source": []
  }
 ],
 "metadata": {
  "kernelspec": {
   "display_name": "Python 3 (ipykernel)",
   "language": "python",
   "name": "python3"
  },
  "language_info": {
   "codemirror_mode": {
    "name": "ipython",
    "version": 3
   },
   "file_extension": ".py",
   "mimetype": "text/x-python",
   "name": "python",
   "nbconvert_exporter": "python",
   "pygments_lexer": "ipython3",
   "version": "3.7.3"
  }
 },
 "nbformat": 4,
 "nbformat_minor": 5
}
