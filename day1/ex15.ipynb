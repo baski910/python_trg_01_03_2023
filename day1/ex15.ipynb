{
 "cells": [
  {
   "cell_type": "code",
   "execution_count": 4,
   "id": "415e19d4",
   "metadata": {},
   "outputs": [
    {
     "name": "stdout",
     "output_type": "stream",
     "text": [
      "['$', 10, 134, 21, 275, 319, 38, 472, 49, 516, 56, 613, 65, 720, 79, 84, 861, 9, 95, 'hello', 'world']\n"
     ]
    }
   ],
   "source": [
    "\"\"\"Example for sorting elements with different data type\"\"\"\n",
    "\n",
    "list1 = [79,134,56,10,9,319,613,275,84,\"hello\",95,472,861,21,720,\"world\",49,516,38,65,\"$\"]\n",
    "\n",
    "#list1.sort() # results in error\n",
    "\n",
    "list1.sort(key=str) # for element in list1: element = str(element)\n",
    "\n",
    "print(list1)"
   ]
  },
  {
   "cell_type": "code",
   "execution_count": 2,
   "id": "97aa44d4",
   "metadata": {},
   "outputs": [
    {
     "name": "stdout",
     "output_type": "stream",
     "text": [
      "<class 'int'>\n",
      "<class 'str'>\n"
     ]
    }
   ],
   "source": [
    "num = 100\n",
    "\n",
    "print(type(num))\n",
    "\n",
    "num = str(num)\n",
    "\n",
    "print(type(num))"
   ]
  },
  {
   "cell_type": "code",
   "execution_count": null,
   "id": "3acbdf64",
   "metadata": {},
   "outputs": [],
   "source": []
  }
 ],
 "metadata": {
  "kernelspec": {
   "display_name": "Python 3 (ipykernel)",
   "language": "python",
   "name": "python3"
  },
  "language_info": {
   "codemirror_mode": {
    "name": "ipython",
    "version": 3
   },
   "file_extension": ".py",
   "mimetype": "text/x-python",
   "name": "python",
   "nbconvert_exporter": "python",
   "pygments_lexer": "ipython3",
   "version": "3.7.3"
  }
 },
 "nbformat": 4,
 "nbformat_minor": 5
}
