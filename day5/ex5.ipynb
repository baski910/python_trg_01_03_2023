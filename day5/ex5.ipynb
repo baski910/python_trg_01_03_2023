{
 "cells": [
  {
   "cell_type": "code",
   "execution_count": null,
   "id": "ddcd83a1",
   "metadata": {},
   "outputs": [],
   "source": [
    "# flask web framework - mainly used for microservices\n",
    "# pip install flask\n",
    "\n",
    "from flask import Flask,render_template\n",
    "\n",
    "app = Flask(__name__)\n",
    "\n",
    "@app.route('/')\n",
    "def home():\n",
    "    #return \"<h1>Welcome to flask app</h1>\"\n",
    "    list_of_names = ['bob','tom','pat','sam']\n",
    "    return render_template(\"index.html\",names=list_of_names)\n",
    "\n",
    "if __name__ == '__main__':\n",
    "    app.run()"
   ]
  },
  {
   "cell_type": "code",
   "execution_count": null,
   "id": "7754bfd2",
   "metadata": {},
   "outputs": [],
   "source": []
  }
 ],
 "metadata": {
  "kernelspec": {
   "display_name": "Python 3 (ipykernel)",
   "language": "python",
   "name": "python3"
  },
  "language_info": {
   "codemirror_mode": {
    "name": "ipython",
    "version": 3
   },
   "file_extension": ".py",
   "mimetype": "text/x-python",
   "name": "python",
   "nbconvert_exporter": "python",
   "pygments_lexer": "ipython3",
   "version": "3.7.3"
  }
 },
 "nbformat": 4,
 "nbformat_minor": 5
}
