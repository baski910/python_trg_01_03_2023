{
 "cells": [
  {
   "cell_type": "code",
   "execution_count": 2,
   "id": "0150a4eb",
   "metadata": {},
   "outputs": [
    {
     "name": "stdout",
     "output_type": "stream",
     "text": [
      " * Serving Flask app '__main__'\n",
      " * Debug mode: off\n"
     ]
    },
    {
     "name": "stderr",
     "output_type": "stream",
     "text": [
      "\u001b[31m\u001b[1mWARNING: This is a development server. Do not use it in a production deployment. Use a production WSGI server instead.\u001b[0m\n",
      " * Running on http://127.0.0.1:5000\n",
      "\u001b[33mPress CTRL+C to quit\u001b[0m\n",
      "127.0.0.1 - - [03/Mar/2023 10:57:06] \"GET / HTTP/1.1\" 200 -\n",
      "127.0.0.1 - - [03/Mar/2023 10:57:07] \"\u001b[33mGET /favicon.ico HTTP/1.1\u001b[0m\" 404 -\n",
      "127.0.0.1 - - [03/Mar/2023 10:57:08] \"\u001b[35m\u001b[1mGET /video_feed HTTP/1.1\u001b[0m\" 206 -\n",
      "127.0.0.1 - - [03/Mar/2023 10:57:08] \"\u001b[35m\u001b[1mGET /video_feed HTTP/1.1\u001b[0m\" 206 -\n",
      "127.0.0.1 - - [03/Mar/2023 10:57:10] \"\u001b[35m\u001b[1mGET /video_feed HTTP/1.1\u001b[0m\" 206 -\n",
      "127.0.0.1 - - [03/Mar/2023 10:57:10] \"\u001b[33mGET /favicon.ico HTTP/1.1\u001b[0m\" 404 -\n"
     ]
    }
   ],
   "source": [
    "import mimetypes\n",
    "import os\n",
    "import re\n",
    "\n",
    "from flask import Flask,request, send_file, Response,render_template\n",
    "\n",
    "app=Flask(__name__)\n",
    "\n",
    "@app.after_request\n",
    "def after_request(response):\n",
    "    response.headers.add('Accept-Ranges', 'bytes')\n",
    "    return response\n",
    "\n",
    "\n",
    "@app.route('/')\n",
    "def index():\n",
    "    return render_template('index.html')\n",
    "\n",
    "\n",
    "@app.route('/video_feed')\n",
    "def video_feed():\n",
    "    \"\"\" \n",
    "        Simple wrapper around send_file which handles HTTP 206 Partial Content\n",
    "        (byte ranges)\n",
    "        TODO: handle all send_file args, mirror send_file's error handling\n",
    "        (if it has any)\n",
    "    \"\"\"\n",
    "    path=\"SampleVideo.mp4\"\n",
    "    range_header = request.headers.get('Range', None)\n",
    "    if not range_header: return send_file(path)\n",
    "    \n",
    "    size = os.path.getsize(path)    \n",
    "    byte1, byte2 = 0, None\n",
    "    \n",
    "    m = re.search('(\\d+)-(\\d*)', range_header)\n",
    "    g = m.groups()\n",
    "    \n",
    "    if g[0]: byte1 = int(g[0])\n",
    "    if g[1]: byte2 = int(g[1])\n",
    "\n",
    "    length = size - byte1\n",
    "    if byte2 is not None:\n",
    "        length = byte2 - byte1\n",
    "    \n",
    "    data = None\n",
    "    #with open(path, 'rb') as f:\n",
    "    with open('SampleVideo.mp4', 'rb') as f:\n",
    "        f.seek(byte1)\n",
    "        data = f.read(length)\n",
    "\n",
    "    rv = Response(data,206,mimetype=mimetypes.guess_type(path)[0],direct_passthrough=True)\n",
    "    rv.headers.add('Content-Range', 'bytes {0}-{1}/{2}'.format(byte1, byte1 + length - 1, size))\n",
    "\n",
    "    return rv\n",
    "\n",
    "if __name__ == '__main__':\n",
    "\tapp.run()"
   ]
  },
  {
   "cell_type": "code",
   "execution_count": null,
   "id": "0cafc4d3",
   "metadata": {},
   "outputs": [],
   "source": []
  }
 ],
 "metadata": {
  "kernelspec": {
   "display_name": "Python 3 (ipykernel)",
   "language": "python",
   "name": "python3"
  },
  "language_info": {
   "codemirror_mode": {
    "name": "ipython",
    "version": 3
   },
   "file_extension": ".py",
   "mimetype": "text/x-python",
   "name": "python",
   "nbconvert_exporter": "python",
   "pygments_lexer": "ipython3",
   "version": "3.7.3"
  }
 },
 "nbformat": 4,
 "nbformat_minor": 5
}
