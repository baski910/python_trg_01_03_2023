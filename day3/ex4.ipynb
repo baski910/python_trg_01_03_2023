{
 "cells": [
  {
   "cell_type": "code",
   "execution_count": 5,
   "id": "e028dc18",
   "metadata": {},
   "outputs": [],
   "source": [
    "list1 = [10,20,30,40,50]\n",
    "\n",
    "# create an iterator using iter method\n",
    "ia = iter(list1)"
   ]
  },
  {
   "cell_type": "code",
   "execution_count": 6,
   "id": "1ef1fdbf",
   "metadata": {},
   "outputs": [
    {
     "name": "stdout",
     "output_type": "stream",
     "text": [
      "10\n"
     ]
    }
   ],
   "source": [
    "print(ia.__next__()) #print(next(ia)) # print(ia.__next__())"
   ]
  },
  {
   "cell_type": "code",
   "execution_count": 7,
   "id": "e102c454",
   "metadata": {},
   "outputs": [
    {
     "name": "stdout",
     "output_type": "stream",
     "text": [
      "20\n"
     ]
    }
   ],
   "source": [
    "print(next(ia))"
   ]
  },
  {
   "cell_type": "code",
   "execution_count": 8,
   "id": "9d4ab618",
   "metadata": {},
   "outputs": [
    {
     "name": "stdout",
     "output_type": "stream",
     "text": [
      "30\n"
     ]
    }
   ],
   "source": [
    "print(next(ia))"
   ]
  },
  {
   "cell_type": "code",
   "execution_count": 9,
   "id": "e43ba033",
   "metadata": {},
   "outputs": [
    {
     "name": "stdout",
     "output_type": "stream",
     "text": [
      "40\n"
     ]
    }
   ],
   "source": [
    "print(next(ia))"
   ]
  },
  {
   "cell_type": "code",
   "execution_count": 10,
   "id": "93a301eb",
   "metadata": {},
   "outputs": [
    {
     "name": "stdout",
     "output_type": "stream",
     "text": [
      "50\n"
     ]
    }
   ],
   "source": [
    "print(next(ia))"
   ]
  },
  {
   "cell_type": "code",
   "execution_count": 11,
   "id": "20936f8e",
   "metadata": {},
   "outputs": [
    {
     "ename": "StopIteration",
     "evalue": "",
     "output_type": "error",
     "traceback": [
      "\u001b[0;31m---------------------------------------------------------------------------\u001b[0m",
      "\u001b[0;31mStopIteration\u001b[0m                             Traceback (most recent call last)",
      "\u001b[0;32m/tmp/ipykernel_4693/2702561742.py\u001b[0m in \u001b[0;36m<module>\u001b[0;34m\u001b[0m\n\u001b[0;32m----> 1\u001b[0;31m \u001b[0mprint\u001b[0m\u001b[0;34m(\u001b[0m\u001b[0mnext\u001b[0m\u001b[0;34m(\u001b[0m\u001b[0mia\u001b[0m\u001b[0;34m)\u001b[0m\u001b[0;34m)\u001b[0m\u001b[0;34m\u001b[0m\u001b[0;34m\u001b[0m\u001b[0m\n\u001b[0m",
      "\u001b[0;31mStopIteration\u001b[0m: "
     ]
    }
   ],
   "source": [
    "print(next(ia))"
   ]
  },
  {
   "cell_type": "code",
   "execution_count": 1,
   "id": "3c21cd02",
   "metadata": {},
   "outputs": [],
   "source": [
    "class RevIter:\n",
    "    def __init__(self,numbers):\n",
    "        self.numbers = numbers\n",
    "        self.count = 0\n",
    "        self.iterations = 0\n",
    "    def __iter__(self):\n",
    "        return self\n",
    "    def __next__(self):\n",
    "        for i in range(len(self.numbers)):\n",
    "            self.count -= 1\n",
    "            self.iterations += 1\n",
    "            if self.iterations = len(self.numbers):\n",
    "                raise StopIteration\n",
    "            return self.numbers[self.count]\n",
    "\n",
    "obj = RevIter([10,20,30,40,50])"
   ]
  },
  {
   "cell_type": "code",
   "execution_count": 2,
   "id": "57e9aea2",
   "metadata": {},
   "outputs": [
    {
     "name": "stdout",
     "output_type": "stream",
     "text": [
      "50\n"
     ]
    }
   ],
   "source": [
    "print(obj.__next__()) # obj.__next__(obj)"
   ]
  },
  {
   "cell_type": "code",
   "execution_count": 3,
   "id": "02177d9b",
   "metadata": {},
   "outputs": [
    {
     "name": "stdout",
     "output_type": "stream",
     "text": [
      "40\n"
     ]
    }
   ],
   "source": [
    "print(obj.__next__())"
   ]
  },
  {
   "cell_type": "code",
   "execution_count": null,
   "id": "59ac738f",
   "metadata": {},
   "outputs": [],
   "source": []
  }
 ],
 "metadata": {
  "kernelspec": {
   "display_name": "Python 3 (ipykernel)",
   "language": "python",
   "name": "python3"
  },
  "language_info": {
   "codemirror_mode": {
    "name": "ipython",
    "version": 3
   },
   "file_extension": ".py",
   "mimetype": "text/x-python",
   "name": "python",
   "nbconvert_exporter": "python",
   "pygments_lexer": "ipython3",
   "version": "3.7.3"
  }
 },
 "nbformat": 4,
 "nbformat_minor": 5
}
