{
 "cells": [
  {
   "cell_type": "code",
   "execution_count": null,
   "id": "cc2b73cc",
   "metadata": {},
   "outputs": [],
   "source": [
    "# working with django frame work\n",
    "# pip install django\n",
    "\n",
    "# create a project\n",
    "# django-admin startproject simpleproject\n",
    "\n",
    "# cd simpleproject\n",
    "#        simpleproject   manage.py\n",
    "\n",
    "# python manage.py startapp firstapp\n",
    "\n",
    "# cd firstapp\n",
    "# edit views.py\n",
    "# from django.http import HttpResponse\n",
    "# def index(request):\n",
    "#     return HttpResponse(\"<h1>Welcome to django app</h1>\")\n",
    "#\n",
    "# create a file named 'urls.py' \n",
    "# from django.url import path\n",
    "# from . import views\n",
    "#\n",
    "# urlpatterns = [\n",
    "#     path('index',views.index,name='index')\n",
    "# ]\n",
    "#\n",
    "#\n",
    "# cd ../simpleproject\n",
    "# edit settings.py\n",
    "# INSTALLED_APPS = [\n",
    "#      ....\n",
    "#      'firstapp'\n",
    "#]\n",
    "#\n",
    "# edit urls.py\n",
    "# line 17 add 'include'\n",
    "# urlpatterns =  [\n",
    "#     ...\n",
    "#     path('',include(('firstapp.urls','firstapp'),namespace='firstapp'))\n",
    "#]\n",
    "#\n",
    "# python manage.py runserver ( 8000 - http://localhost:8000/index)\n"
   ]
  }
 ],
 "metadata": {
  "kernelspec": {
   "display_name": "Python 3 (ipykernel)",
   "language": "python",
   "name": "python3"
  },
  "language_info": {
   "codemirror_mode": {
    "name": "ipython",
    "version": 3
   },
   "file_extension": ".py",
   "mimetype": "text/x-python",
   "name": "python",
   "nbconvert_exporter": "python",
   "pygments_lexer": "ipython3",
   "version": "3.7.3"
  }
 },
 "nbformat": 4,
 "nbformat_minor": 5
}
