{
 "cells": [
  {
   "cell_type": "code",
   "execution_count": 9,
   "id": "4153b874",
   "metadata": {},
   "outputs": [
    {
     "name": "stdout",
     "output_type": "stream",
     "text": [
      "Vim for Debian\n",
      "---------------\n",
      "1. The current Debian Vim scripts policy can be found in the vim-doc package\n",
      "   under /usr/share/doc/vim-common and\n",
      "   <http://pkg-vim.alioth.debian.org/vim-policy.html/>.\n",
      "2. Before reporting bugs, check if the bug also exists if you run vim\n",
      "   with \"vim -u NONE -U NONE\". If not, make sure that the \"bug\" is not\n",
      "   a result of a setting in your ~/.vimrc before reporting it.\n",
      " -- Stefano Zacchiroli <zack@debian.org>   Mon, 10 Apr 2006 09:59:41 -0400\n",
      "MzScheme Vim variant\n",
      "--------------------\n",
      "As requested by the current MzScheme maintainer (Ari Pollak <ari@debian.org>),\n",
      "a vim-mzscheme variant is not being built.  The reasons stated are as follows:\n",
      "  1) MzScheme does not build on many of Debian's supported architectures.\n",
      "  2) The MzScheme package is not versioned based on the library.\n",
      "  3) The MzScheme ABI changes with every upstream version.\n",
      " -- James Vega <jamessan@debian.org> Mon, 10  Apr  2006  09:48:25  -0400\n",
      "Modeline support disabled by default\n",
      "------------------------------------\n",
      "Modelines have historically been a source of security/resource vulnerabilities\n",
      "and are therefore disabled by default in $VIMRUNTIME/debian.vim.\n",
      "You can enable them in ~/.vimrc or /etc/vim/vimrc with \"set modeline\".\n",
      "In order to mimic Vim's default setting (modelines disabled when root, enabled\n",
      "otherwise), you may instead want to use the following snippet:\n",
      "  if $USER != 'root'\n",
      "    set modeline\n",
      "  else\n",
      "    set nomodeline\n",
      "  endif\n",
      "The securemodelines script from vim.org (and in the vim-scripts package) may\n",
      "also be of interest as it provides a way to whitelist exactly which options\n",
      "may be set from a modeline.\n",
      " -- James Vega <jamessan@debian.org>  Sun, 04 May 2008 03:11:51 -0400\n"
     ]
    }
   ],
   "source": [
    "####################################################################\n",
    "# fileobject = open(filepath,filemode,buffering)\n",
    "# read - returns the entire file content without argument\n",
    "#        returns the bytes specified by argument, if argument is provided\n",
    "#\n",
    "# readline - return 1 line from current cursor position\n",
    "#\n",
    "# readlines - returns the file as list.\n",
    "###########################################################################\n",
    "import os\n",
    "import re\n",
    "fh = open('readme.txt','r')\n",
    "\n",
    "#print(fh.read()) # return the entire file content\n",
    "#print(os.stat('readme.txt')[6]) # returns the size of the  file\n",
    "#print(fh.read(100)) # returns 1st 100 bytes from the file\n",
    "\n",
    "#print(fh.readline()) # returns the 1st line\n",
    "#print(fh.readline()) # returns the 2nd line\n",
    "\n",
    "#content = fh.readlines() # returns the file as list. each line becomes element of the list\n",
    "#print(\"Number of lines:\",len(content))\n",
    "\n",
    "#print(content)\n",
    "\n",
    "for line in fh.readlines():\n",
    "    sobj = re.search(r'^\\s*$',line)\n",
    "    if sobj:\n",
    "        continue\n",
    "    print(line,end=\"\")\n",
    "\n",
    "\n",
    "fh.close()"
   ]
  },
  {
   "cell_type": "code",
   "execution_count": null,
   "id": "458895a1",
   "metadata": {},
   "outputs": [],
   "source": []
  }
 ],
 "metadata": {
  "kernelspec": {
   "display_name": "Python 3 (ipykernel)",
   "language": "python",
   "name": "python3"
  },
  "language_info": {
   "codemirror_mode": {
    "name": "ipython",
    "version": 3
   },
   "file_extension": ".py",
   "mimetype": "text/x-python",
   "name": "python",
   "nbconvert_exporter": "python",
   "pygments_lexer": "ipython3",
   "version": "3.7.3"
  }
 },
 "nbformat": 4,
 "nbformat_minor": 5
}
