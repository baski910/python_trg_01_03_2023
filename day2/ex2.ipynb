{
 "cells": [
  {
   "cell_type": "code",
   "execution_count": 1,
   "id": "1441acfc",
   "metadata": {},
   "outputs": [
    {
     "name": "stdout",
     "output_type": "stream",
     "text": [
      "{'name': 'alice', 'age': 7, 'class': 'first'}\n",
      "7\n"
     ]
    }
   ],
   "source": [
    "\"\"\"Dictionary examples\"\"\"\n",
    "\n",
    "d1 = {'name':'alice','age':7,'class':'first'}\n",
    "\n",
    "# print all items in a dictionary\n",
    "print(d1)\n",
    "\n",
    "# access a value against a specific key.\n",
    "print(d1['age']) # the output will be 7"
   ]
  },
  {
   "cell_type": "code",
   "execution_count": 2,
   "id": "4c13bd85",
   "metadata": {},
   "outputs": [
    {
     "name": "stdout",
     "output_type": "stream",
     "text": [
      "{'name': 'bob', 'age': 7, 'class': 'first'}\n"
     ]
    }
   ],
   "source": [
    "# repeating a key is not an error, the last pair of key and value will overwrite the previous one\n",
    "d1 = {'name':'alice','age':7,'class':'first','name':'bob'} # the value for the key 'name' will be bob\n",
    "print(d1)"
   ]
  },
  {
   "cell_type": "code",
   "execution_count": 3,
   "id": "2b480d1f",
   "metadata": {},
   "outputs": [
    {
     "name": "stdout",
     "output_type": "stream",
     "text": [
      "{'name': 'bob', 'age': 10, 'class': 'first'}\n"
     ]
    }
   ],
   "source": [
    "#dictionary values can be updated by simple assignment\n",
    "d1['age']=10 # updates the value against the key, if key is present otherwise the key is created\n",
    "print(d1)"
   ]
  },
  {
   "cell_type": "code",
   "execution_count": 4,
   "id": "fe303c3b",
   "metadata": {},
   "outputs": [
    {
     "name": "stdout",
     "output_type": "stream",
     "text": [
      "{'name': 'bob', 'age': 10, 'class': 'first', 'lname': 'joe'}\n"
     ]
    }
   ],
   "source": [
    "d1['lname'] = 'joe' # creates a new key 'lname' with value 'joe'\n",
    "print(d1)"
   ]
  },
  {
   "cell_type": "code",
   "execution_count": 7,
   "id": "8b2fcbea",
   "metadata": {},
   "outputs": [
    {
     "name": "stdout",
     "output_type": "stream",
     "text": [
      "['alice', 'bob', 'tom', 'pat']\n"
     ]
    }
   ],
   "source": [
    "d1 = {'name':['alice','bob','tom','pat'],'age':[7,8,10,11],'class':['first','second','third','fourth']}\n",
    "print(d1['name'])"
   ]
  },
  {
   "cell_type": "code",
   "execution_count": 8,
   "id": "77ed82bb",
   "metadata": {},
   "outputs": [
    {
     "name": "stdout",
     "output_type": "stream",
     "text": [
      "before update: {'name': 'alice', 'age': 7, 'class': 'first'}\n",
      "after update: {'name': 'alice', 'age': 7, 'class': 'first', 'school': 'cps school', 'rank': 'second'}\n"
     ]
    }
   ],
   "source": [
    "\"\"\"merge dictionary\"\"\"\n",
    "\n",
    "d1 = {'name':'alice','age':7,'class':'first'} \n",
    "\n",
    "d2 = {'school': 'cps school','rank':'second'}\n",
    "\n",
    "print(\"before update:\",d1)\n",
    "\n",
    "d1.update(d2) # updates d1 with items of d2\n",
    "\n",
    "print(\"after update:\",d1)"
   ]
  },
  {
   "cell_type": "code",
   "execution_count": 9,
   "id": "376124de",
   "metadata": {},
   "outputs": [
    {
     "name": "stdout",
     "output_type": "stream",
     "text": [
      "{'name': 'alice', 'age': 7, 'class': 'first', 'rank': 'second'}\n"
     ]
    }
   ],
   "source": [
    "# pop - takes key  as argument and removes corresponding item\n",
    "\n",
    "d1.pop('school')\n",
    "\n",
    "print(d1)"
   ]
  },
  {
   "cell_type": "code",
   "execution_count": 10,
   "id": "4136aad0",
   "metadata": {},
   "outputs": [
    {
     "name": "stdout",
     "output_type": "stream",
     "text": [
      "{}\n"
     ]
    }
   ],
   "source": [
    "# clear - makes the dictionary empty\n",
    "d1.clear()\n",
    "\n",
    "print(d1)"
   ]
  },
  {
   "cell_type": "code",
   "execution_count": null,
   "id": "fe0d1ec0",
   "metadata": {},
   "outputs": [],
   "source": []
  }
 ],
 "metadata": {
  "kernelspec": {
   "display_name": "Python 3 (ipykernel)",
   "language": "python",
   "name": "python3"
  },
  "language_info": {
   "codemirror_mode": {
    "name": "ipython",
    "version": 3
   },
   "file_extension": ".py",
   "mimetype": "text/x-python",
   "name": "python",
   "nbconvert_exporter": "python",
   "pygments_lexer": "ipython3",
   "version": "3.7.3"
  }
 },
 "nbformat": 4,
 "nbformat_minor": 5
}
