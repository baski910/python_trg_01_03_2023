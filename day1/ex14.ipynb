{
 "cells": [
  {
   "cell_type": "code",
   "execution_count": null,
   "id": "473c44b9",
   "metadata": {},
   "outputs": [],
   "source": [
    "#sort - list function. sorts the list in line. Optionally takes key and reverse as arguments\n",
    "#has no return value. The original list itself gets modified\n",
    "#sorted - Built-in function. takes list (to be sorted ) as argument. Optionally takes key and reverse as arguments. Returns the sorted list. Original list is not modified\n",
    "#Both sort function expects all elements of list to be with same data type"
   ]
  },
  {
   "cell_type": "code",
   "execution_count": 1,
   "id": "c7520955",
   "metadata": {},
   "outputs": [
    {
     "name": "stdout",
     "output_type": "stream",
     "text": [
      "before sorting: [79, 134, 56, 10, 9, 613, 84, 95, 472, 861, 720, 49, 516, 65]\n",
      "after sorting: [9, 10, 49, 56, 65, 79, 84, 95, 134, 472, 516, 613, 720, 861]\n"
     ]
    }
   ],
   "source": [
    "\"\"\"Example for sort\"\"\"\n",
    "\n",
    "list1 = [79,134,56,10,9,613,84,95,472,861,720,49,516,65]\n",
    "\n",
    "print(\"before sorting:\",list1)\n",
    "\n",
    "list1.sort()\n",
    "\n",
    "print(\"after sorting:\",list1)"
   ]
  },
  {
   "cell_type": "code",
   "execution_count": 2,
   "id": "ec32fb60",
   "metadata": {},
   "outputs": [
    {
     "name": "stdout",
     "output_type": "stream",
     "text": [
      "before sorting: [79, 134, 56, 10, 9, 613, 84, 95, 472, 861, 720, 49, 516, 65]\n",
      "after sorting: [9, 10, 49, 56, 65, 79, 84, 95, 134, 472, 516, 613, 720, 861]\n",
      "after sorting: [79, 134, 56, 10, 9, 613, 84, 95, 472, 861, 720, 49, 516, 65]\n"
     ]
    }
   ],
   "source": [
    "\"\"\"Example for sorted\"\"\"\n",
    "\n",
    "list1 = [79,134,56,10,9,613,84,95,472,861,720,49,516,65]\n",
    "\n",
    "print(\"before sorting:\",list1)\n",
    "\n",
    "list2 = sorted(list1)\n",
    "\n",
    "print(\"after sorting:\",list2)\n",
    "print(\"after sorting:\",list1)"
   ]
  },
  {
   "cell_type": "code",
   "execution_count": 3,
   "id": "bd10d555",
   "metadata": {},
   "outputs": [
    {
     "ename": "NameError",
     "evalue": "name 'sort' is not defined",
     "output_type": "error",
     "traceback": [
      "\u001b[0;31m---------------------------------------------------------------------------\u001b[0m",
      "\u001b[0;31mNameError\u001b[0m                                 Traceback (most recent call last)",
      "\u001b[0;32m/tmp/ipykernel_15280/2036077311.py\u001b[0m in \u001b[0;36m<module>\u001b[0;34m\u001b[0m\n\u001b[0;32m----> 1\u001b[0;31m \u001b[0mlist2\u001b[0m \u001b[0;34m=\u001b[0m \u001b[0msort\u001b[0m\u001b[0;34m(\u001b[0m\u001b[0mlist1\u001b[0m\u001b[0;34m)\u001b[0m\u001b[0;34m\u001b[0m\u001b[0;34m\u001b[0m\u001b[0m\n\u001b[0m",
      "\u001b[0;31mNameError\u001b[0m: name 'sort' is not defined"
     ]
    }
   ],
   "source": [
    "list_of_numbers = []\n",
    "for i in range(10):\n",
    "    num = int(input())\n",
    "    list_of_numbers.append(num)\n",
    "\n",
    "list_of_numbers.sort()\n",
    "print(list_of_numbers)"
   ]
  },
  {
   "cell_type": "code",
   "execution_count": null,
   "id": "f81fd1d4",
   "metadata": {},
   "outputs": [],
   "source": [
    "while True:\n",
    "    num = input()\n",
    "    if num == \"END\":\n",
    "        break\n",
    "    else:\n",
    "        if type(a) is not int:\n",
    "            break\n",
    "        list_of_numbers.append(int(num))"
   ]
  },
  {
   "cell_type": "code",
   "execution_count": 4,
   "id": "b83e1ae8",
   "metadata": {},
   "outputs": [
    {
     "name": "stdout",
     "output_type": "stream",
     "text": [
      "before sorting: [79, 134, 56, 10, 9, 613, 84, 95, 472, 861, 720, 49, 516, 65]\n",
      "after sorting: [861, 720, 613, 516, 472, 134, 95, 84, 79, 65, 56, 49, 10, 9]\n"
     ]
    }
   ],
   "source": [
    "\"\"\"Example for reverse sort\"\"\"\n",
    "\n",
    "list1 = [79,134,56,10,9,613,84,95,472,861,720,49,516,65]\n",
    "\n",
    "print(\"before sorting:\",list1)\n",
    "\n",
    "list1.sort(reverse=True)\n",
    "\n",
    "print(\"after sorting:\",list1)"
   ]
  },
  {
   "cell_type": "code",
   "execution_count": null,
   "id": "92f050f5",
   "metadata": {},
   "outputs": [],
   "source": []
  }
 ],
 "metadata": {
  "kernelspec": {
   "display_name": "Python 3 (ipykernel)",
   "language": "python",
   "name": "python3"
  },
  "language_info": {
   "codemirror_mode": {
    "name": "ipython",
    "version": 3
   },
   "file_extension": ".py",
   "mimetype": "text/x-python",
   "name": "python",
   "nbconvert_exporter": "python",
   "pygments_lexer": "ipython3",
   "version": "3.7.3"
  }
 },
 "nbformat": 4,
 "nbformat_minor": 5
}
