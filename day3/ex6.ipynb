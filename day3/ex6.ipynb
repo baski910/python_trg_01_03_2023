{
 "cells": [
  {
   "cell_type": "code",
   "execution_count": 1,
   "id": "b57734fc",
   "metadata": {},
   "outputs": [
    {
     "name": "stdout",
     "output_type": "stream",
     "text": [
      "110\n"
     ]
    }
   ],
   "source": [
    "\"\"\"Example for nested function\"\"\"\n",
    "def f(x):\n",
    "    def g(y):\n",
    "        return y*y\n",
    "    return x+g(x)\n",
    "\n",
    "# calling the nested function\n",
    "retval = f(10) \n",
    "print(retval) # output will be 110"
   ]
  },
  {
   "cell_type": "code",
   "execution_count": 2,
   "id": "8866b11f",
   "metadata": {},
   "outputs": [],
   "source": [
    "\"\"\"Example for closure\"\"\"\n",
    "\n",
    "def f(x):\n",
    "    def g():\n",
    "        return x*x\n",
    "    return g"
   ]
  },
  {
   "cell_type": "code",
   "execution_count": 3,
   "id": "91583753",
   "metadata": {},
   "outputs": [],
   "source": [
    "result = f(10)"
   ]
  },
  {
   "cell_type": "code",
   "execution_count": 4,
   "id": "c1a3e55f",
   "metadata": {},
   "outputs": [
    {
     "name": "stdout",
     "output_type": "stream",
     "text": [
      "<function f.<locals>.g at 0x7ffb84217e18>\n"
     ]
    }
   ],
   "source": [
    "print(result)"
   ]
  },
  {
   "cell_type": "code",
   "execution_count": 5,
   "id": "6e8b780e",
   "metadata": {},
   "outputs": [
    {
     "name": "stdout",
     "output_type": "stream",
     "text": [
      "100\n"
     ]
    }
   ],
   "source": [
    "print(result())"
   ]
  },
  {
   "cell_type": "code",
   "execution_count": null,
   "id": "197cf7fd",
   "metadata": {},
   "outputs": [],
   "source": []
  }
 ],
 "metadata": {
  "kernelspec": {
   "display_name": "Python 3 (ipykernel)",
   "language": "python",
   "name": "python3"
  },
  "language_info": {
   "codemirror_mode": {
    "name": "ipython",
    "version": 3
   },
   "file_extension": ".py",
   "mimetype": "text/x-python",
   "name": "python",
   "nbconvert_exporter": "python",
   "pygments_lexer": "ipython3",
   "version": "3.7.3"
  }
 },
 "nbformat": 4,
 "nbformat_minor": 5
}
