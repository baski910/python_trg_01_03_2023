{
 "cells": [
  {
   "cell_type": "code",
   "execution_count": 5,
   "id": "b489cea9",
   "metadata": {},
   "outputs": [
    {
     "name": "stdout",
     "output_type": "stream",
     "text": [
      "Enter a number0\n",
      "positive\n"
     ]
    }
   ],
   "source": [
    "\"\"\"if..elif..else\"\"\"\n",
    "\"\"\"input is a built-in function, for reading from keyboard. string is the default datatype when reading from keyboard\"\"\"\n",
    "num = int(input(\"Enter a number\"))\n",
    "# assume the input is a proper number\n",
    "# using if..else\n",
    "if num<0:\n",
    "    print(\"negative\")\n",
    "else:\n",
    "    print(\"positive\")"
   ]
  },
  {
   "cell_type": "code",
   "execution_count": 2,
   "id": "a36abcb2",
   "metadata": {},
   "outputs": [
    {
     "name": "stdout",
     "output_type": "stream",
     "text": [
      "Enter a number100\n",
      "100\n",
      "<class 'int'>\n"
     ]
    }
   ],
   "source": [
    "num = int(input(\"Enter a number\"))\n",
    "\n",
    "print(num)\n",
    "print(type(num))"
   ]
  },
  {
   "cell_type": "code",
   "execution_count": 6,
   "id": "38ee09e1",
   "metadata": {},
   "outputs": [
    {
     "name": "stdout",
     "output_type": "stream",
     "text": [
      "Enter a number0\n",
      "zero\n"
     ]
    }
   ],
   "source": [
    "num = int(input(\"Enter a number\"))\n",
    "# assume the input is a proper number\n",
    "# using if..else\n",
    "if num<0:\n",
    "    print(\"negative\")\n",
    "elif num == 0:\n",
    "    print(\"zero\")\n",
    "else:\n",
    "    print(\"positive\")"
   ]
  },
  {
   "cell_type": "code",
   "execution_count": 9,
   "id": "07f8bbfc",
   "metadata": {},
   "outputs": [
    {
     "name": "stdout",
     "output_type": "stream",
     "text": [
      "0\n",
      "1\n",
      "2\n",
      "3\n",
      "4\n",
      "all iterations completed\n"
     ]
    }
   ],
   "source": [
    "# for .. else\n",
    "# else part will be executed only after all iterations are completed\n",
    "\n",
    "for i in range(10):\n",
    "    if i == 5:\n",
    "        break\n",
    "    print(i)\n",
    "else:\n",
    "    print(\"all iterations completed\")"
   ]
  },
  {
   "cell_type": "code",
   "execution_count": 12,
   "id": "f66be247",
   "metadata": {},
   "outputs": [
    {
     "name": "stdout",
     "output_type": "stream",
     "text": [
      "Enter a number17\n",
      "prime\n"
     ]
    }
   ],
   "source": [
    "# find a given number is prime\n",
    "num = int(input(\"Enter a number\"))\n",
    "\n",
    "flag = 0\n",
    "\n",
    "for n in range(2,num):\n",
    "    if num%n==0:\n",
    "        flag = 1\n",
    "        \n",
    "if flag:\n",
    "    print(\"not prime\")\n",
    "else:\n",
    "    print(\"prime\")"
   ]
  },
  {
   "cell_type": "code",
   "execution_count": 14,
   "id": "ca888066",
   "metadata": {},
   "outputs": [
    {
     "name": "stdout",
     "output_type": "stream",
     "text": [
      "Enter a number17\n",
      "prime\n"
     ]
    }
   ],
   "source": [
    "# find a given number is prime\n",
    "num = int(input(\"Enter a number\"))\n",
    "\n",
    "for n in range(2,num):\n",
    "    if num%n==0:\n",
    "        print(\"not prime\")\n",
    "        break\n",
    "else:\n",
    "    print(\"prime\")"
   ]
  },
  {
   "cell_type": "code",
   "execution_count": 18,
   "id": "c4890ea9",
   "metadata": {},
   "outputs": [
    {
     "name": "stdout",
     "output_type": "stream",
     "text": [
      "1\n",
      "2\n",
      "3\n",
      "4\n",
      "6\n",
      "7\n",
      "8\n",
      "9\n",
      "10\n",
      "all iterations completed\n"
     ]
    }
   ],
   "source": [
    "count = 0\n",
    "while count<10:\n",
    "    count += 1\n",
    "    if count == 5:\n",
    "        continue\n",
    "    print(count)\n",
    "else:\n",
    "    print(\"all iterations completed\")"
   ]
  },
  {
   "cell_type": "code",
   "execution_count": 20,
   "id": "72a1fbbb",
   "metadata": {},
   "outputs": [],
   "source": [
    "# pass - valid statement. Takes no action\n",
    "\n",
    "a = 10\n",
    "\n",
    "if a==10:\n",
    "    pass\n",
    "else:\n",
    "    print(\"not ten\")"
   ]
  },
  {
   "cell_type": "code",
   "execution_count": null,
   "id": "ae46fde9",
   "metadata": {},
   "outputs": [],
   "source": []
  }
 ],
 "metadata": {
  "kernelspec": {
   "display_name": "Python 3 (ipykernel)",
   "language": "python",
   "name": "python3"
  },
  "language_info": {
   "codemirror_mode": {
    "name": "ipython",
    "version": 3
   },
   "file_extension": ".py",
   "mimetype": "text/x-python",
   "name": "python",
   "nbconvert_exporter": "python",
   "pygments_lexer": "ipython3",
   "version": "3.7.3"
  }
 },
 "nbformat": 4,
 "nbformat_minor": 5
}
